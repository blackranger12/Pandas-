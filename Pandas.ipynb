{
 "cells": [
  {
   "cell_type": "markdown",
   "id": "3dbe1a05",
   "metadata": {
    "ExecuteTime": {
     "end_time": "2024-04-10T06:04:53.670901Z",
     "start_time": "2024-04-10T06:04:52.340085Z"
    }
   },
   "source": [
    "# This is a short introduction of Pandas for Pratice session "
   ]
  },
  {
   "cell_type": "code",
   "execution_count": 106,
   "id": "9e6d7e22",
   "metadata": {
    "ExecuteTime": {
     "end_time": "2024-04-11T00:21:32.366342Z",
     "start_time": "2024-04-11T00:21:32.350411Z"
    }
   },
   "outputs": [],
   "source": [
    "# we import as follows\n",
    "import pandas as pd \n",
    "import numpy as np \n",
    "import matplotlib.pyplot as plt"
   ]
  },
  {
   "cell_type": "markdown",
   "id": "c90caa19",
   "metadata": {},
   "source": [
    "# object Creation "
   ]
  },
  {
   "cell_type": "markdown",
   "id": "4da078fd",
   "metadata": {
    "ExecuteTime": {
     "end_time": "2024-04-10T06:11:28.452186Z",
     "start_time": "2024-04-10T06:11:28.437931Z"
    }
   },
   "source": [
    "Creating s SERIES by passing list of values, letting pandas create a default integer index"
   ]
  },
  {
   "cell_type": "code",
   "execution_count": 2,
   "id": "b9e00d73",
   "metadata": {
    "ExecuteTime": {
     "end_time": "2024-04-10T23:33:27.376300Z",
     "start_time": "2024-04-10T23:33:27.344981Z"
    }
   },
   "outputs": [
    {
     "data": {
      "text/plain": [
       "0    1.0\n",
       "1    3.0\n",
       "2    5.0\n",
       "3    NaN\n",
       "4    5.0\n",
       "5    6.0\n",
       "6    7.0\n",
       "dtype: float64"
      ]
     },
     "execution_count": 2,
     "metadata": {},
     "output_type": "execute_result"
    }
   ],
   "source": [
    "s = pd.Series([1,3,5,np.nan,5,6,7])\n",
    "s"
   ]
  },
  {
   "cell_type": "markdown",
   "id": "10b7b1ad",
   "metadata": {},
   "source": [
    "Creating a DATAFRAME by passing a numpy array, with a datetime index and labled columns "
   ]
  },
  {
   "cell_type": "code",
   "execution_count": 3,
   "id": "e9ee70bd",
   "metadata": {
    "ExecuteTime": {
     "end_time": "2024-04-10T23:33:27.392062Z",
     "start_time": "2024-04-10T23:33:27.376300Z"
    }
   },
   "outputs": [
    {
     "data": {
      "text/plain": [
       "DatetimeIndex(['2021-01-01', '2021-01-02', '2021-01-03', '2021-01-04',\n",
       "               '2021-01-05', '2021-01-06'],\n",
       "              dtype='datetime64[ns]', freq='D')"
      ]
     },
     "execution_count": 3,
     "metadata": {},
     "output_type": "execute_result"
    }
   ],
   "source": [
    "dates= pd.date_range('20210101',periods=6)\n",
    "dates"
   ]
  },
  {
   "cell_type": "code",
   "execution_count": 4,
   "id": "0e297fc1",
   "metadata": {
    "ExecuteTime": {
     "end_time": "2024-04-10T23:33:27.423966Z",
     "start_time": "2024-04-10T23:33:27.394741Z"
    }
   },
   "outputs": [
    {
     "data": {
      "text/html": [
       "<div>\n",
       "<style scoped>\n",
       "    .dataframe tbody tr th:only-of-type {\n",
       "        vertical-align: middle;\n",
       "    }\n",
       "\n",
       "    .dataframe tbody tr th {\n",
       "        vertical-align: top;\n",
       "    }\n",
       "\n",
       "    .dataframe thead th {\n",
       "        text-align: right;\n",
       "    }\n",
       "</style>\n",
       "<table border=\"1\" class=\"dataframe\">\n",
       "  <thead>\n",
       "    <tr style=\"text-align: right;\">\n",
       "      <th></th>\n",
       "      <th>A</th>\n",
       "      <th>B</th>\n",
       "      <th>C</th>\n",
       "      <th>D</th>\n",
       "    </tr>\n",
       "  </thead>\n",
       "  <tbody>\n",
       "    <tr>\n",
       "      <th>2021-01-01</th>\n",
       "      <td>1.551620</td>\n",
       "      <td>-0.817919</td>\n",
       "      <td>-1.280884</td>\n",
       "      <td>-1.134517</td>\n",
       "    </tr>\n",
       "    <tr>\n",
       "      <th>2021-01-02</th>\n",
       "      <td>-0.675342</td>\n",
       "      <td>-1.075331</td>\n",
       "      <td>0.617850</td>\n",
       "      <td>0.406777</td>\n",
       "    </tr>\n",
       "    <tr>\n",
       "      <th>2021-01-03</th>\n",
       "      <td>-0.476723</td>\n",
       "      <td>1.253737</td>\n",
       "      <td>-0.072375</td>\n",
       "      <td>-0.055763</td>\n",
       "    </tr>\n",
       "    <tr>\n",
       "      <th>2021-01-04</th>\n",
       "      <td>0.490392</td>\n",
       "      <td>-0.749848</td>\n",
       "      <td>0.827658</td>\n",
       "      <td>0.734913</td>\n",
       "    </tr>\n",
       "    <tr>\n",
       "      <th>2021-01-05</th>\n",
       "      <td>-0.675232</td>\n",
       "      <td>0.979605</td>\n",
       "      <td>2.059946</td>\n",
       "      <td>-0.471373</td>\n",
       "    </tr>\n",
       "    <tr>\n",
       "      <th>2021-01-06</th>\n",
       "      <td>2.132374</td>\n",
       "      <td>-0.620940</td>\n",
       "      <td>-0.077464</td>\n",
       "      <td>0.304613</td>\n",
       "    </tr>\n",
       "  </tbody>\n",
       "</table>\n",
       "</div>"
      ],
      "text/plain": [
       "                   A         B         C         D\n",
       "2021-01-01  1.551620 -0.817919 -1.280884 -1.134517\n",
       "2021-01-02 -0.675342 -1.075331  0.617850  0.406777\n",
       "2021-01-03 -0.476723  1.253737 -0.072375 -0.055763\n",
       "2021-01-04  0.490392 -0.749848  0.827658  0.734913\n",
       "2021-01-05 -0.675232  0.979605  2.059946 -0.471373\n",
       "2021-01-06  2.132374 -0.620940 -0.077464  0.304613"
      ]
     },
     "execution_count": 4,
     "metadata": {},
     "output_type": "execute_result"
    }
   ],
   "source": [
    "df=pd.DataFrame(np.random.randn(6,4),index=dates,columns=list('ABCD'))\n",
    "df"
   ]
  },
  {
   "cell_type": "markdown",
   "id": "2c663329",
   "metadata": {},
   "source": [
    "Creating a DATAFRAME by passing a dict of objects that can be converted to series-like"
   ]
  },
  {
   "cell_type": "code",
   "execution_count": 5,
   "id": "990bf7bb",
   "metadata": {
    "ExecuteTime": {
     "end_time": "2024-04-10T23:33:27.455036Z",
     "start_time": "2024-04-10T23:33:27.425121Z"
    }
   },
   "outputs": [
    {
     "data": {
      "text/html": [
       "<div>\n",
       "<style scoped>\n",
       "    .dataframe tbody tr th:only-of-type {\n",
       "        vertical-align: middle;\n",
       "    }\n",
       "\n",
       "    .dataframe tbody tr th {\n",
       "        vertical-align: top;\n",
       "    }\n",
       "\n",
       "    .dataframe thead th {\n",
       "        text-align: right;\n",
       "    }\n",
       "</style>\n",
       "<table border=\"1\" class=\"dataframe\">\n",
       "  <thead>\n",
       "    <tr style=\"text-align: right;\">\n",
       "      <th></th>\n",
       "      <th>A</th>\n",
       "      <th>B</th>\n",
       "      <th>C</th>\n",
       "      <th>D</th>\n",
       "      <th>E</th>\n",
       "      <th>F</th>\n",
       "    </tr>\n",
       "  </thead>\n",
       "  <tbody>\n",
       "    <tr>\n",
       "      <th>0</th>\n",
       "      <td>1.0</td>\n",
       "      <td>2021-01-02</td>\n",
       "      <td>1.0</td>\n",
       "      <td>3</td>\n",
       "      <td>test</td>\n",
       "      <td>foo</td>\n",
       "    </tr>\n",
       "    <tr>\n",
       "      <th>1</th>\n",
       "      <td>1.0</td>\n",
       "      <td>2021-01-02</td>\n",
       "      <td>1.0</td>\n",
       "      <td>3</td>\n",
       "      <td>train</td>\n",
       "      <td>foo</td>\n",
       "    </tr>\n",
       "    <tr>\n",
       "      <th>2</th>\n",
       "      <td>1.0</td>\n",
       "      <td>2021-01-02</td>\n",
       "      <td>1.0</td>\n",
       "      <td>3</td>\n",
       "      <td>test</td>\n",
       "      <td>foo</td>\n",
       "    </tr>\n",
       "    <tr>\n",
       "      <th>3</th>\n",
       "      <td>1.0</td>\n",
       "      <td>2021-01-02</td>\n",
       "      <td>1.0</td>\n",
       "      <td>3</td>\n",
       "      <td>train</td>\n",
       "      <td>foo</td>\n",
       "    </tr>\n",
       "  </tbody>\n",
       "</table>\n",
       "</div>"
      ],
      "text/plain": [
       "     A          B    C  D      E    F\n",
       "0  1.0 2021-01-02  1.0  3   test  foo\n",
       "1  1.0 2021-01-02  1.0  3  train  foo\n",
       "2  1.0 2021-01-02  1.0  3   test  foo\n",
       "3  1.0 2021-01-02  1.0  3  train  foo"
      ]
     },
     "execution_count": 5,
     "metadata": {},
     "output_type": "execute_result"
    }
   ],
   "source": [
    "df2 = pd.DataFrame({'A' : 1.,\n",
    "                    'B': pd.Timestamp('20210102'),\n",
    "                   'C': pd.Series(1, index=list(range(4)),dtype='float'),\n",
    "                   'D' :np.array([3]*4,dtype='int32'),\n",
    "                   'E' : pd.Categorical([\"test\",\"train\",\"test\",\"train\"]),\n",
    "                   'F': 'foo'})\n",
    "df2"
   ]
  },
  {
   "cell_type": "code",
   "execution_count": 6,
   "id": "a8060320",
   "metadata": {
    "ExecuteTime": {
     "end_time": "2024-04-10T23:33:27.471046Z",
     "start_time": "2024-04-10T23:33:27.456195Z"
    }
   },
   "outputs": [
    {
     "data": {
      "text/plain": [
       "A          float64\n",
       "B    datetime64[s]\n",
       "C          float64\n",
       "D            int32\n",
       "E         category\n",
       "F           object\n",
       "dtype: object"
      ]
     },
     "execution_count": 6,
     "metadata": {},
     "output_type": "execute_result"
    }
   ],
   "source": [
    "# having specific dtypes\n",
    "df2.dtypes"
   ]
  },
  {
   "cell_type": "markdown",
   "id": "1ff70f71",
   "metadata": {
    "ExecuteTime": {
     "end_time": "2024-04-10T13:42:05.490549Z",
     "start_time": "2024-04-10T13:42:05.473396Z"
    }
   },
   "source": [
    "# Viewing Data"
   ]
  },
  {
   "cell_type": "markdown",
   "id": "74af79bd",
   "metadata": {},
   "source": [
    "See the top & bottom rows of the frame"
   ]
  },
  {
   "cell_type": "code",
   "execution_count": 7,
   "id": "14c92f8d",
   "metadata": {
    "ExecuteTime": {
     "end_time": "2024-04-10T23:33:27.487171Z",
     "start_time": "2024-04-10T23:33:27.471552Z"
    }
   },
   "outputs": [
    {
     "data": {
      "text/html": [
       "<div>\n",
       "<style scoped>\n",
       "    .dataframe tbody tr th:only-of-type {\n",
       "        vertical-align: middle;\n",
       "    }\n",
       "\n",
       "    .dataframe tbody tr th {\n",
       "        vertical-align: top;\n",
       "    }\n",
       "\n",
       "    .dataframe thead th {\n",
       "        text-align: right;\n",
       "    }\n",
       "</style>\n",
       "<table border=\"1\" class=\"dataframe\">\n",
       "  <thead>\n",
       "    <tr style=\"text-align: right;\">\n",
       "      <th></th>\n",
       "      <th>A</th>\n",
       "      <th>B</th>\n",
       "      <th>C</th>\n",
       "      <th>D</th>\n",
       "    </tr>\n",
       "  </thead>\n",
       "  <tbody>\n",
       "    <tr>\n",
       "      <th>2021-01-01</th>\n",
       "      <td>1.551620</td>\n",
       "      <td>-0.817919</td>\n",
       "      <td>-1.280884</td>\n",
       "      <td>-1.134517</td>\n",
       "    </tr>\n",
       "    <tr>\n",
       "      <th>2021-01-02</th>\n",
       "      <td>-0.675342</td>\n",
       "      <td>-1.075331</td>\n",
       "      <td>0.617850</td>\n",
       "      <td>0.406777</td>\n",
       "    </tr>\n",
       "    <tr>\n",
       "      <th>2021-01-03</th>\n",
       "      <td>-0.476723</td>\n",
       "      <td>1.253737</td>\n",
       "      <td>-0.072375</td>\n",
       "      <td>-0.055763</td>\n",
       "    </tr>\n",
       "    <tr>\n",
       "      <th>2021-01-04</th>\n",
       "      <td>0.490392</td>\n",
       "      <td>-0.749848</td>\n",
       "      <td>0.827658</td>\n",
       "      <td>0.734913</td>\n",
       "    </tr>\n",
       "    <tr>\n",
       "      <th>2021-01-05</th>\n",
       "      <td>-0.675232</td>\n",
       "      <td>0.979605</td>\n",
       "      <td>2.059946</td>\n",
       "      <td>-0.471373</td>\n",
       "    </tr>\n",
       "  </tbody>\n",
       "</table>\n",
       "</div>"
      ],
      "text/plain": [
       "                   A         B         C         D\n",
       "2021-01-01  1.551620 -0.817919 -1.280884 -1.134517\n",
       "2021-01-02 -0.675342 -1.075331  0.617850  0.406777\n",
       "2021-01-03 -0.476723  1.253737 -0.072375 -0.055763\n",
       "2021-01-04  0.490392 -0.749848  0.827658  0.734913\n",
       "2021-01-05 -0.675232  0.979605  2.059946 -0.471373"
      ]
     },
     "execution_count": 7,
     "metadata": {},
     "output_type": "execute_result"
    }
   ],
   "source": [
    "df.head()"
   ]
  },
  {
   "cell_type": "code",
   "execution_count": 8,
   "id": "225bb9fc",
   "metadata": {
    "ExecuteTime": {
     "end_time": "2024-04-10T23:33:27.503158Z",
     "start_time": "2024-04-10T23:33:27.489820Z"
    }
   },
   "outputs": [
    {
     "data": {
      "text/html": [
       "<div>\n",
       "<style scoped>\n",
       "    .dataframe tbody tr th:only-of-type {\n",
       "        vertical-align: middle;\n",
       "    }\n",
       "\n",
       "    .dataframe tbody tr th {\n",
       "        vertical-align: top;\n",
       "    }\n",
       "\n",
       "    .dataframe thead th {\n",
       "        text-align: right;\n",
       "    }\n",
       "</style>\n",
       "<table border=\"1\" class=\"dataframe\">\n",
       "  <thead>\n",
       "    <tr style=\"text-align: right;\">\n",
       "      <th></th>\n",
       "      <th>A</th>\n",
       "      <th>B</th>\n",
       "      <th>C</th>\n",
       "      <th>D</th>\n",
       "    </tr>\n",
       "  </thead>\n",
       "  <tbody>\n",
       "    <tr>\n",
       "      <th>2021-01-04</th>\n",
       "      <td>0.490392</td>\n",
       "      <td>-0.749848</td>\n",
       "      <td>0.827658</td>\n",
       "      <td>0.734913</td>\n",
       "    </tr>\n",
       "    <tr>\n",
       "      <th>2021-01-05</th>\n",
       "      <td>-0.675232</td>\n",
       "      <td>0.979605</td>\n",
       "      <td>2.059946</td>\n",
       "      <td>-0.471373</td>\n",
       "    </tr>\n",
       "    <tr>\n",
       "      <th>2021-01-06</th>\n",
       "      <td>2.132374</td>\n",
       "      <td>-0.620940</td>\n",
       "      <td>-0.077464</td>\n",
       "      <td>0.304613</td>\n",
       "    </tr>\n",
       "  </tbody>\n",
       "</table>\n",
       "</div>"
      ],
      "text/plain": [
       "                   A         B         C         D\n",
       "2021-01-04  0.490392 -0.749848  0.827658  0.734913\n",
       "2021-01-05 -0.675232  0.979605  2.059946 -0.471373\n",
       "2021-01-06  2.132374 -0.620940 -0.077464  0.304613"
      ]
     },
     "execution_count": 8,
     "metadata": {},
     "output_type": "execute_result"
    }
   ],
   "source": [
    "df.tail(3)"
   ]
  },
  {
   "cell_type": "markdown",
   "id": "8bdf3074",
   "metadata": {},
   "source": [
    "Display the index, columns and the underlying numpy data"
   ]
  },
  {
   "cell_type": "code",
   "execution_count": 9,
   "id": "8e217d45",
   "metadata": {
    "ExecuteTime": {
     "end_time": "2024-04-10T23:33:27.518298Z",
     "start_time": "2024-04-10T23:33:27.504589Z"
    }
   },
   "outputs": [
    {
     "data": {
      "text/plain": [
       "DatetimeIndex(['2021-01-01', '2021-01-02', '2021-01-03', '2021-01-04',\n",
       "               '2021-01-05', '2021-01-06'],\n",
       "              dtype='datetime64[ns]', freq='D')"
      ]
     },
     "execution_count": 9,
     "metadata": {},
     "output_type": "execute_result"
    }
   ],
   "source": [
    "df.index"
   ]
  },
  {
   "cell_type": "code",
   "execution_count": 10,
   "id": "34c6e905",
   "metadata": {
    "ExecuteTime": {
     "end_time": "2024-04-10T23:33:27.534014Z",
     "start_time": "2024-04-10T23:33:27.519401Z"
    }
   },
   "outputs": [
    {
     "data": {
      "text/plain": [
       "Index(['A', 'B', 'C', 'D'], dtype='object')"
      ]
     },
     "execution_count": 10,
     "metadata": {},
     "output_type": "execute_result"
    }
   ],
   "source": [
    "df.columns"
   ]
  },
  {
   "cell_type": "code",
   "execution_count": 11,
   "id": "897a26c7",
   "metadata": {
    "ExecuteTime": {
     "end_time": "2024-04-10T23:33:27.549558Z",
     "start_time": "2024-04-10T23:33:27.535093Z"
    }
   },
   "outputs": [
    {
     "data": {
      "text/plain": [
       "array([[ 1.55162038, -0.81791938, -1.28088355, -1.13451666],\n",
       "       [-0.67534176, -1.07533115,  0.61785034,  0.406777  ],\n",
       "       [-0.47672252,  1.25373657, -0.07237451, -0.0557627 ],\n",
       "       [ 0.49039188, -0.74984839,  0.82765848,  0.73491287],\n",
       "       [-0.67523169,  0.97960469,  2.05994558, -0.47137313],\n",
       "       [ 2.1323744 , -0.62094016, -0.07746439,  0.304613  ]])"
      ]
     },
     "execution_count": 11,
     "metadata": {},
     "output_type": "execute_result"
    }
   ],
   "source": [
    "df.values"
   ]
  },
  {
   "cell_type": "markdown",
   "id": "b06f998e",
   "metadata": {},
   "source": [
    "Describe shows a quick statistic summary of your data"
   ]
  },
  {
   "cell_type": "code",
   "execution_count": 12,
   "id": "dffc6da8",
   "metadata": {
    "ExecuteTime": {
     "end_time": "2024-04-10T23:33:27.580888Z",
     "start_time": "2024-04-10T23:33:27.549558Z"
    }
   },
   "outputs": [
    {
     "data": {
      "text/html": [
       "<div>\n",
       "<style scoped>\n",
       "    .dataframe tbody tr th:only-of-type {\n",
       "        vertical-align: middle;\n",
       "    }\n",
       "\n",
       "    .dataframe tbody tr th {\n",
       "        vertical-align: top;\n",
       "    }\n",
       "\n",
       "    .dataframe thead th {\n",
       "        text-align: right;\n",
       "    }\n",
       "</style>\n",
       "<table border=\"1\" class=\"dataframe\">\n",
       "  <thead>\n",
       "    <tr style=\"text-align: right;\">\n",
       "      <th></th>\n",
       "      <th>A</th>\n",
       "      <th>B</th>\n",
       "      <th>C</th>\n",
       "      <th>D</th>\n",
       "    </tr>\n",
       "  </thead>\n",
       "  <tbody>\n",
       "    <tr>\n",
       "      <th>count</th>\n",
       "      <td>6.000000</td>\n",
       "      <td>6.000000</td>\n",
       "      <td>6.000000</td>\n",
       "      <td>6.000000</td>\n",
       "    </tr>\n",
       "    <tr>\n",
       "      <th>mean</th>\n",
       "      <td>0.391182</td>\n",
       "      <td>-0.171783</td>\n",
       "      <td>0.345789</td>\n",
       "      <td>-0.035892</td>\n",
       "    </tr>\n",
       "    <tr>\n",
       "      <th>std</th>\n",
       "      <td>1.217882</td>\n",
       "      <td>1.012679</td>\n",
       "      <td>1.117552</td>\n",
       "      <td>0.678683</td>\n",
       "    </tr>\n",
       "    <tr>\n",
       "      <th>min</th>\n",
       "      <td>-0.675342</td>\n",
       "      <td>-1.075331</td>\n",
       "      <td>-1.280884</td>\n",
       "      <td>-1.134517</td>\n",
       "    </tr>\n",
       "    <tr>\n",
       "      <th>25%</th>\n",
       "      <td>-0.625604</td>\n",
       "      <td>-0.800902</td>\n",
       "      <td>-0.076192</td>\n",
       "      <td>-0.367471</td>\n",
       "    </tr>\n",
       "    <tr>\n",
       "      <th>50%</th>\n",
       "      <td>0.006835</td>\n",
       "      <td>-0.685394</td>\n",
       "      <td>0.272738</td>\n",
       "      <td>0.124425</td>\n",
       "    </tr>\n",
       "    <tr>\n",
       "      <th>75%</th>\n",
       "      <td>1.286313</td>\n",
       "      <td>0.579468</td>\n",
       "      <td>0.775206</td>\n",
       "      <td>0.381236</td>\n",
       "    </tr>\n",
       "    <tr>\n",
       "      <th>max</th>\n",
       "      <td>2.132374</td>\n",
       "      <td>1.253737</td>\n",
       "      <td>2.059946</td>\n",
       "      <td>0.734913</td>\n",
       "    </tr>\n",
       "  </tbody>\n",
       "</table>\n",
       "</div>"
      ],
      "text/plain": [
       "              A         B         C         D\n",
       "count  6.000000  6.000000  6.000000  6.000000\n",
       "mean   0.391182 -0.171783  0.345789 -0.035892\n",
       "std    1.217882  1.012679  1.117552  0.678683\n",
       "min   -0.675342 -1.075331 -1.280884 -1.134517\n",
       "25%   -0.625604 -0.800902 -0.076192 -0.367471\n",
       "50%    0.006835 -0.685394  0.272738  0.124425\n",
       "75%    1.286313  0.579468  0.775206  0.381236\n",
       "max    2.132374  1.253737  2.059946  0.734913"
      ]
     },
     "execution_count": 12,
     "metadata": {},
     "output_type": "execute_result"
    }
   ],
   "source": [
    "df.describe()"
   ]
  },
  {
   "cell_type": "markdown",
   "id": "dfb0c4b6",
   "metadata": {},
   "source": [
    "Transposing your data "
   ]
  },
  {
   "cell_type": "code",
   "execution_count": 13,
   "id": "4eb8fada",
   "metadata": {
    "ExecuteTime": {
     "end_time": "2024-04-10T23:33:27.596630Z",
     "start_time": "2024-04-10T23:33:27.582024Z"
    }
   },
   "outputs": [
    {
     "data": {
      "text/html": [
       "<div>\n",
       "<style scoped>\n",
       "    .dataframe tbody tr th:only-of-type {\n",
       "        vertical-align: middle;\n",
       "    }\n",
       "\n",
       "    .dataframe tbody tr th {\n",
       "        vertical-align: top;\n",
       "    }\n",
       "\n",
       "    .dataframe thead th {\n",
       "        text-align: right;\n",
       "    }\n",
       "</style>\n",
       "<table border=\"1\" class=\"dataframe\">\n",
       "  <thead>\n",
       "    <tr style=\"text-align: right;\">\n",
       "      <th></th>\n",
       "      <th>2021-01-01</th>\n",
       "      <th>2021-01-02</th>\n",
       "      <th>2021-01-03</th>\n",
       "      <th>2021-01-04</th>\n",
       "      <th>2021-01-05</th>\n",
       "      <th>2021-01-06</th>\n",
       "    </tr>\n",
       "  </thead>\n",
       "  <tbody>\n",
       "    <tr>\n",
       "      <th>A</th>\n",
       "      <td>1.551620</td>\n",
       "      <td>-0.675342</td>\n",
       "      <td>-0.476723</td>\n",
       "      <td>0.490392</td>\n",
       "      <td>-0.675232</td>\n",
       "      <td>2.132374</td>\n",
       "    </tr>\n",
       "    <tr>\n",
       "      <th>B</th>\n",
       "      <td>-0.817919</td>\n",
       "      <td>-1.075331</td>\n",
       "      <td>1.253737</td>\n",
       "      <td>-0.749848</td>\n",
       "      <td>0.979605</td>\n",
       "      <td>-0.620940</td>\n",
       "    </tr>\n",
       "    <tr>\n",
       "      <th>C</th>\n",
       "      <td>-1.280884</td>\n",
       "      <td>0.617850</td>\n",
       "      <td>-0.072375</td>\n",
       "      <td>0.827658</td>\n",
       "      <td>2.059946</td>\n",
       "      <td>-0.077464</td>\n",
       "    </tr>\n",
       "    <tr>\n",
       "      <th>D</th>\n",
       "      <td>-1.134517</td>\n",
       "      <td>0.406777</td>\n",
       "      <td>-0.055763</td>\n",
       "      <td>0.734913</td>\n",
       "      <td>-0.471373</td>\n",
       "      <td>0.304613</td>\n",
       "    </tr>\n",
       "  </tbody>\n",
       "</table>\n",
       "</div>"
      ],
      "text/plain": [
       "   2021-01-01  2021-01-02  2021-01-03  2021-01-04  2021-01-05  2021-01-06\n",
       "A    1.551620   -0.675342   -0.476723    0.490392   -0.675232    2.132374\n",
       "B   -0.817919   -1.075331    1.253737   -0.749848    0.979605   -0.620940\n",
       "C   -1.280884    0.617850   -0.072375    0.827658    2.059946   -0.077464\n",
       "D   -1.134517    0.406777   -0.055763    0.734913   -0.471373    0.304613"
      ]
     },
     "execution_count": 13,
     "metadata": {},
     "output_type": "execute_result"
    }
   ],
   "source": [
    "df.T"
   ]
  },
  {
   "cell_type": "markdown",
   "id": "bc3cad6d",
   "metadata": {
    "ExecuteTime": {
     "end_time": "2024-04-10T13:45:22.017656Z",
     "start_time": "2024-04-10T13:45:22.002997Z"
    }
   },
   "source": [
    "Sorting by an axis"
   ]
  },
  {
   "cell_type": "code",
   "execution_count": 14,
   "id": "84c54512",
   "metadata": {
    "ExecuteTime": {
     "end_time": "2024-04-10T23:33:27.612642Z",
     "start_time": "2024-04-10T23:33:27.597638Z"
    }
   },
   "outputs": [
    {
     "data": {
      "text/html": [
       "<div>\n",
       "<style scoped>\n",
       "    .dataframe tbody tr th:only-of-type {\n",
       "        vertical-align: middle;\n",
       "    }\n",
       "\n",
       "    .dataframe tbody tr th {\n",
       "        vertical-align: top;\n",
       "    }\n",
       "\n",
       "    .dataframe thead th {\n",
       "        text-align: right;\n",
       "    }\n",
       "</style>\n",
       "<table border=\"1\" class=\"dataframe\">\n",
       "  <thead>\n",
       "    <tr style=\"text-align: right;\">\n",
       "      <th></th>\n",
       "      <th>D</th>\n",
       "      <th>C</th>\n",
       "      <th>B</th>\n",
       "      <th>A</th>\n",
       "    </tr>\n",
       "  </thead>\n",
       "  <tbody>\n",
       "    <tr>\n",
       "      <th>2021-01-01</th>\n",
       "      <td>-1.134517</td>\n",
       "      <td>-1.280884</td>\n",
       "      <td>-0.817919</td>\n",
       "      <td>1.551620</td>\n",
       "    </tr>\n",
       "    <tr>\n",
       "      <th>2021-01-02</th>\n",
       "      <td>0.406777</td>\n",
       "      <td>0.617850</td>\n",
       "      <td>-1.075331</td>\n",
       "      <td>-0.675342</td>\n",
       "    </tr>\n",
       "    <tr>\n",
       "      <th>2021-01-03</th>\n",
       "      <td>-0.055763</td>\n",
       "      <td>-0.072375</td>\n",
       "      <td>1.253737</td>\n",
       "      <td>-0.476723</td>\n",
       "    </tr>\n",
       "    <tr>\n",
       "      <th>2021-01-04</th>\n",
       "      <td>0.734913</td>\n",
       "      <td>0.827658</td>\n",
       "      <td>-0.749848</td>\n",
       "      <td>0.490392</td>\n",
       "    </tr>\n",
       "    <tr>\n",
       "      <th>2021-01-05</th>\n",
       "      <td>-0.471373</td>\n",
       "      <td>2.059946</td>\n",
       "      <td>0.979605</td>\n",
       "      <td>-0.675232</td>\n",
       "    </tr>\n",
       "    <tr>\n",
       "      <th>2021-01-06</th>\n",
       "      <td>0.304613</td>\n",
       "      <td>-0.077464</td>\n",
       "      <td>-0.620940</td>\n",
       "      <td>2.132374</td>\n",
       "    </tr>\n",
       "  </tbody>\n",
       "</table>\n",
       "</div>"
      ],
      "text/plain": [
       "                   D         C         B         A\n",
       "2021-01-01 -1.134517 -1.280884 -0.817919  1.551620\n",
       "2021-01-02  0.406777  0.617850 -1.075331 -0.675342\n",
       "2021-01-03 -0.055763 -0.072375  1.253737 -0.476723\n",
       "2021-01-04  0.734913  0.827658 -0.749848  0.490392\n",
       "2021-01-05 -0.471373  2.059946  0.979605 -0.675232\n",
       "2021-01-06  0.304613 -0.077464 -0.620940  2.132374"
      ]
     },
     "execution_count": 14,
     "metadata": {},
     "output_type": "execute_result"
    }
   ],
   "source": [
    "df.sort_index(axis=1,ascending=False)"
   ]
  },
  {
   "cell_type": "markdown",
   "id": "400550e0",
   "metadata": {},
   "source": [
    "Sorting by values"
   ]
  },
  {
   "cell_type": "code",
   "execution_count": 15,
   "id": "7dcb0d6b",
   "metadata": {
    "ExecuteTime": {
     "end_time": "2024-04-10T23:33:27.628685Z",
     "start_time": "2024-04-10T23:33:27.614536Z"
    }
   },
   "outputs": [
    {
     "data": {
      "text/html": [
       "<div>\n",
       "<style scoped>\n",
       "    .dataframe tbody tr th:only-of-type {\n",
       "        vertical-align: middle;\n",
       "    }\n",
       "\n",
       "    .dataframe tbody tr th {\n",
       "        vertical-align: top;\n",
       "    }\n",
       "\n",
       "    .dataframe thead th {\n",
       "        text-align: right;\n",
       "    }\n",
       "</style>\n",
       "<table border=\"1\" class=\"dataframe\">\n",
       "  <thead>\n",
       "    <tr style=\"text-align: right;\">\n",
       "      <th></th>\n",
       "      <th>A</th>\n",
       "      <th>B</th>\n",
       "      <th>C</th>\n",
       "      <th>D</th>\n",
       "    </tr>\n",
       "  </thead>\n",
       "  <tbody>\n",
       "    <tr>\n",
       "      <th>2021-01-02</th>\n",
       "      <td>-0.675342</td>\n",
       "      <td>-1.075331</td>\n",
       "      <td>0.617850</td>\n",
       "      <td>0.406777</td>\n",
       "    </tr>\n",
       "    <tr>\n",
       "      <th>2021-01-01</th>\n",
       "      <td>1.551620</td>\n",
       "      <td>-0.817919</td>\n",
       "      <td>-1.280884</td>\n",
       "      <td>-1.134517</td>\n",
       "    </tr>\n",
       "    <tr>\n",
       "      <th>2021-01-04</th>\n",
       "      <td>0.490392</td>\n",
       "      <td>-0.749848</td>\n",
       "      <td>0.827658</td>\n",
       "      <td>0.734913</td>\n",
       "    </tr>\n",
       "    <tr>\n",
       "      <th>2021-01-06</th>\n",
       "      <td>2.132374</td>\n",
       "      <td>-0.620940</td>\n",
       "      <td>-0.077464</td>\n",
       "      <td>0.304613</td>\n",
       "    </tr>\n",
       "    <tr>\n",
       "      <th>2021-01-05</th>\n",
       "      <td>-0.675232</td>\n",
       "      <td>0.979605</td>\n",
       "      <td>2.059946</td>\n",
       "      <td>-0.471373</td>\n",
       "    </tr>\n",
       "    <tr>\n",
       "      <th>2021-01-03</th>\n",
       "      <td>-0.476723</td>\n",
       "      <td>1.253737</td>\n",
       "      <td>-0.072375</td>\n",
       "      <td>-0.055763</td>\n",
       "    </tr>\n",
       "  </tbody>\n",
       "</table>\n",
       "</div>"
      ],
      "text/plain": [
       "                   A         B         C         D\n",
       "2021-01-02 -0.675342 -1.075331  0.617850  0.406777\n",
       "2021-01-01  1.551620 -0.817919 -1.280884 -1.134517\n",
       "2021-01-04  0.490392 -0.749848  0.827658  0.734913\n",
       "2021-01-06  2.132374 -0.620940 -0.077464  0.304613\n",
       "2021-01-05 -0.675232  0.979605  2.059946 -0.471373\n",
       "2021-01-03 -0.476723  1.253737 -0.072375 -0.055763"
      ]
     },
     "execution_count": 15,
     "metadata": {},
     "output_type": "execute_result"
    }
   ],
   "source": [
    "df.sort_values(by='B')"
   ]
  },
  {
   "cell_type": "markdown",
   "id": "b08f553f",
   "metadata": {},
   "source": [
    "# Selection "
   ]
  },
  {
   "cell_type": "markdown",
   "id": "3cf5174d",
   "metadata": {
    "ExecuteTime": {
     "end_time": "2024-04-10T13:52:28.312235Z",
     "start_time": "2024-04-10T13:52:28.296147Z"
    }
   },
   "source": [
    "Note: While standard Python/NumPy expressions for selecting and setting are intuitive and come in handy for interactive work, for production code, we recommend the optimized pandas data access methods, .at, .iat,.loc, .iloc and .ix."
   ]
  },
  {
   "cell_type": "code",
   "execution_count": 16,
   "id": "808172f7",
   "metadata": {
    "ExecuteTime": {
     "end_time": "2024-04-10T23:33:27.644824Z",
     "start_time": "2024-04-10T23:33:27.629770Z"
    }
   },
   "outputs": [],
   "source": [
    "# Getting "
   ]
  },
  {
   "cell_type": "markdown",
   "id": "3671a3ba",
   "metadata": {
    "ExecuteTime": {
     "end_time": "2024-04-10T13:54:34.409794Z",
     "start_time": "2024-04-10T13:54:34.398464Z"
    }
   },
   "source": [
    "Selecting a single column, which yields a Series, equivalent to df.A"
   ]
  },
  {
   "cell_type": "code",
   "execution_count": 17,
   "id": "c04e160d",
   "metadata": {
    "ExecuteTime": {
     "end_time": "2024-04-10T23:33:27.660613Z",
     "start_time": "2024-04-10T23:33:27.644824Z"
    }
   },
   "outputs": [
    {
     "data": {
      "text/plain": [
       "2021-01-01    1.551620\n",
       "2021-01-02   -0.675342\n",
       "2021-01-03   -0.476723\n",
       "2021-01-04    0.490392\n",
       "2021-01-05   -0.675232\n",
       "2021-01-06    2.132374\n",
       "Freq: D, Name: A, dtype: float64"
      ]
     },
     "execution_count": 17,
     "metadata": {},
     "output_type": "execute_result"
    }
   ],
   "source": [
    "df['A']"
   ]
  },
  {
   "cell_type": "markdown",
   "id": "406c9017",
   "metadata": {},
   "source": [
    "Selecting via [ ], which slices the rows."
   ]
  },
  {
   "cell_type": "code",
   "execution_count": 18,
   "id": "6b0bc761",
   "metadata": {
    "ExecuteTime": {
     "end_time": "2024-04-10T23:33:27.676714Z",
     "start_time": "2024-04-10T23:33:27.662858Z"
    }
   },
   "outputs": [
    {
     "data": {
      "text/html": [
       "<div>\n",
       "<style scoped>\n",
       "    .dataframe tbody tr th:only-of-type {\n",
       "        vertical-align: middle;\n",
       "    }\n",
       "\n",
       "    .dataframe tbody tr th {\n",
       "        vertical-align: top;\n",
       "    }\n",
       "\n",
       "    .dataframe thead th {\n",
       "        text-align: right;\n",
       "    }\n",
       "</style>\n",
       "<table border=\"1\" class=\"dataframe\">\n",
       "  <thead>\n",
       "    <tr style=\"text-align: right;\">\n",
       "      <th></th>\n",
       "      <th>A</th>\n",
       "      <th>B</th>\n",
       "      <th>C</th>\n",
       "      <th>D</th>\n",
       "    </tr>\n",
       "  </thead>\n",
       "  <tbody>\n",
       "    <tr>\n",
       "      <th>2021-01-01</th>\n",
       "      <td>1.551620</td>\n",
       "      <td>-0.817919</td>\n",
       "      <td>-1.280884</td>\n",
       "      <td>-1.134517</td>\n",
       "    </tr>\n",
       "    <tr>\n",
       "      <th>2021-01-02</th>\n",
       "      <td>-0.675342</td>\n",
       "      <td>-1.075331</td>\n",
       "      <td>0.617850</td>\n",
       "      <td>0.406777</td>\n",
       "    </tr>\n",
       "    <tr>\n",
       "      <th>2021-01-03</th>\n",
       "      <td>-0.476723</td>\n",
       "      <td>1.253737</td>\n",
       "      <td>-0.072375</td>\n",
       "      <td>-0.055763</td>\n",
       "    </tr>\n",
       "  </tbody>\n",
       "</table>\n",
       "</div>"
      ],
      "text/plain": [
       "                   A         B         C         D\n",
       "2021-01-01  1.551620 -0.817919 -1.280884 -1.134517\n",
       "2021-01-02 -0.675342 -1.075331  0.617850  0.406777\n",
       "2021-01-03 -0.476723  1.253737 -0.072375 -0.055763"
      ]
     },
     "execution_count": 18,
     "metadata": {},
     "output_type": "execute_result"
    }
   ],
   "source": [
    "df[0:3]"
   ]
  },
  {
   "cell_type": "code",
   "execution_count": 19,
   "id": "3624369a",
   "metadata": {
    "ExecuteTime": {
     "end_time": "2024-04-10T23:33:27.692734Z",
     "start_time": "2024-04-10T23:33:27.677961Z"
    }
   },
   "outputs": [
    {
     "data": {
      "text/html": [
       "<div>\n",
       "<style scoped>\n",
       "    .dataframe tbody tr th:only-of-type {\n",
       "        vertical-align: middle;\n",
       "    }\n",
       "\n",
       "    .dataframe tbody tr th {\n",
       "        vertical-align: top;\n",
       "    }\n",
       "\n",
       "    .dataframe thead th {\n",
       "        text-align: right;\n",
       "    }\n",
       "</style>\n",
       "<table border=\"1\" class=\"dataframe\">\n",
       "  <thead>\n",
       "    <tr style=\"text-align: right;\">\n",
       "      <th></th>\n",
       "      <th>A</th>\n",
       "      <th>B</th>\n",
       "      <th>C</th>\n",
       "      <th>D</th>\n",
       "    </tr>\n",
       "  </thead>\n",
       "  <tbody>\n",
       "    <tr>\n",
       "      <th>2021-01-01</th>\n",
       "      <td>1.551620</td>\n",
       "      <td>-0.817919</td>\n",
       "      <td>-1.280884</td>\n",
       "      <td>-1.134517</td>\n",
       "    </tr>\n",
       "    <tr>\n",
       "      <th>2021-01-02</th>\n",
       "      <td>-0.675342</td>\n",
       "      <td>-1.075331</td>\n",
       "      <td>0.617850</td>\n",
       "      <td>0.406777</td>\n",
       "    </tr>\n",
       "    <tr>\n",
       "      <th>2021-01-03</th>\n",
       "      <td>-0.476723</td>\n",
       "      <td>1.253737</td>\n",
       "      <td>-0.072375</td>\n",
       "      <td>-0.055763</td>\n",
       "    </tr>\n",
       "    <tr>\n",
       "      <th>2021-01-04</th>\n",
       "      <td>0.490392</td>\n",
       "      <td>-0.749848</td>\n",
       "      <td>0.827658</td>\n",
       "      <td>0.734913</td>\n",
       "    </tr>\n",
       "  </tbody>\n",
       "</table>\n",
       "</div>"
      ],
      "text/plain": [
       "                   A         B         C         D\n",
       "2021-01-01  1.551620 -0.817919 -1.280884 -1.134517\n",
       "2021-01-02 -0.675342 -1.075331  0.617850  0.406777\n",
       "2021-01-03 -0.476723  1.253737 -0.072375 -0.055763\n",
       "2021-01-04  0.490392 -0.749848  0.827658  0.734913"
      ]
     },
     "execution_count": 19,
     "metadata": {},
     "output_type": "execute_result"
    }
   ],
   "source": [
    "df['20210101':'20210104']"
   ]
  },
  {
   "cell_type": "markdown",
   "id": "edd68ea0",
   "metadata": {},
   "source": [
    "# Selection by Label"
   ]
  },
  {
   "cell_type": "code",
   "execution_count": 20,
   "id": "184b7e45",
   "metadata": {
    "ExecuteTime": {
     "end_time": "2024-04-10T23:33:27.708733Z",
     "start_time": "2024-04-10T23:33:27.694768Z"
    }
   },
   "outputs": [
    {
     "data": {
      "text/plain": [
       "A    1.551620\n",
       "B   -0.817919\n",
       "C   -1.280884\n",
       "D   -1.134517\n",
       "Name: 2021-01-01 00:00:00, dtype: float64"
      ]
     },
     "execution_count": 20,
     "metadata": {},
     "output_type": "execute_result"
    }
   ],
   "source": [
    "df.loc[dates[0]]"
   ]
  },
  {
   "cell_type": "markdown",
   "id": "108136df",
   "metadata": {},
   "source": [
    "Selecting on a multi-axis by label"
   ]
  },
  {
   "cell_type": "code",
   "execution_count": 21,
   "id": "a49c483f",
   "metadata": {
    "ExecuteTime": {
     "end_time": "2024-04-10T23:33:27.724548Z",
     "start_time": "2024-04-10T23:33:27.708733Z"
    }
   },
   "outputs": [
    {
     "data": {
      "text/html": [
       "<div>\n",
       "<style scoped>\n",
       "    .dataframe tbody tr th:only-of-type {\n",
       "        vertical-align: middle;\n",
       "    }\n",
       "\n",
       "    .dataframe tbody tr th {\n",
       "        vertical-align: top;\n",
       "    }\n",
       "\n",
       "    .dataframe thead th {\n",
       "        text-align: right;\n",
       "    }\n",
       "</style>\n",
       "<table border=\"1\" class=\"dataframe\">\n",
       "  <thead>\n",
       "    <tr style=\"text-align: right;\">\n",
       "      <th></th>\n",
       "      <th>A</th>\n",
       "      <th>B</th>\n",
       "    </tr>\n",
       "  </thead>\n",
       "  <tbody>\n",
       "    <tr>\n",
       "      <th>2021-01-01</th>\n",
       "      <td>1.551620</td>\n",
       "      <td>-0.817919</td>\n",
       "    </tr>\n",
       "    <tr>\n",
       "      <th>2021-01-02</th>\n",
       "      <td>-0.675342</td>\n",
       "      <td>-1.075331</td>\n",
       "    </tr>\n",
       "    <tr>\n",
       "      <th>2021-01-03</th>\n",
       "      <td>-0.476723</td>\n",
       "      <td>1.253737</td>\n",
       "    </tr>\n",
       "    <tr>\n",
       "      <th>2021-01-04</th>\n",
       "      <td>0.490392</td>\n",
       "      <td>-0.749848</td>\n",
       "    </tr>\n",
       "    <tr>\n",
       "      <th>2021-01-05</th>\n",
       "      <td>-0.675232</td>\n",
       "      <td>0.979605</td>\n",
       "    </tr>\n",
       "    <tr>\n",
       "      <th>2021-01-06</th>\n",
       "      <td>2.132374</td>\n",
       "      <td>-0.620940</td>\n",
       "    </tr>\n",
       "  </tbody>\n",
       "</table>\n",
       "</div>"
      ],
      "text/plain": [
       "                   A         B\n",
       "2021-01-01  1.551620 -0.817919\n",
       "2021-01-02 -0.675342 -1.075331\n",
       "2021-01-03 -0.476723  1.253737\n",
       "2021-01-04  0.490392 -0.749848\n",
       "2021-01-05 -0.675232  0.979605\n",
       "2021-01-06  2.132374 -0.620940"
      ]
     },
     "execution_count": 21,
     "metadata": {},
     "output_type": "execute_result"
    }
   ],
   "source": [
    "df.loc[:,['A','B']]"
   ]
  },
  {
   "cell_type": "markdown",
   "id": "3350e143",
   "metadata": {},
   "source": [
    "Showing label slicing ,both endpoints are included"
   ]
  },
  {
   "cell_type": "code",
   "execution_count": 22,
   "id": "aacb6ecb",
   "metadata": {
    "ExecuteTime": {
     "end_time": "2024-04-10T23:33:27.755842Z",
     "start_time": "2024-04-10T23:33:27.727821Z"
    }
   },
   "outputs": [
    {
     "data": {
      "text/html": [
       "<div>\n",
       "<style scoped>\n",
       "    .dataframe tbody tr th:only-of-type {\n",
       "        vertical-align: middle;\n",
       "    }\n",
       "\n",
       "    .dataframe tbody tr th {\n",
       "        vertical-align: top;\n",
       "    }\n",
       "\n",
       "    .dataframe thead th {\n",
       "        text-align: right;\n",
       "    }\n",
       "</style>\n",
       "<table border=\"1\" class=\"dataframe\">\n",
       "  <thead>\n",
       "    <tr style=\"text-align: right;\">\n",
       "      <th></th>\n",
       "      <th>A</th>\n",
       "      <th>B</th>\n",
       "    </tr>\n",
       "  </thead>\n",
       "  <tbody>\n",
       "    <tr>\n",
       "      <th>2021-01-01</th>\n",
       "      <td>1.551620</td>\n",
       "      <td>-0.817919</td>\n",
       "    </tr>\n",
       "    <tr>\n",
       "      <th>2021-01-02</th>\n",
       "      <td>-0.675342</td>\n",
       "      <td>-1.075331</td>\n",
       "    </tr>\n",
       "    <tr>\n",
       "      <th>2021-01-03</th>\n",
       "      <td>-0.476723</td>\n",
       "      <td>1.253737</td>\n",
       "    </tr>\n",
       "    <tr>\n",
       "      <th>2021-01-04</th>\n",
       "      <td>0.490392</td>\n",
       "      <td>-0.749848</td>\n",
       "    </tr>\n",
       "  </tbody>\n",
       "</table>\n",
       "</div>"
      ],
      "text/plain": [
       "                   A         B\n",
       "2021-01-01  1.551620 -0.817919\n",
       "2021-01-02 -0.675342 -1.075331\n",
       "2021-01-03 -0.476723  1.253737\n",
       "2021-01-04  0.490392 -0.749848"
      ]
     },
     "execution_count": 22,
     "metadata": {},
     "output_type": "execute_result"
    }
   ],
   "source": [
    "df.loc['20210101':'20210104',['A','B']]"
   ]
  },
  {
   "cell_type": "markdown",
   "id": "ddb57ae8",
   "metadata": {},
   "source": [
    "Reduction in the dimensions of the returned objects "
   ]
  },
  {
   "cell_type": "code",
   "execution_count": 23,
   "id": "41138825",
   "metadata": {
    "ExecuteTime": {
     "end_time": "2024-04-10T23:33:27.771883Z",
     "start_time": "2024-04-10T23:33:27.757524Z"
    }
   },
   "outputs": [
    {
     "data": {
      "text/plain": [
       "A    1.551620\n",
       "B   -0.817919\n",
       "Name: 2021-01-01 00:00:00, dtype: float64"
      ]
     },
     "execution_count": 23,
     "metadata": {},
     "output_type": "execute_result"
    }
   ],
   "source": [
    "df.loc['20210101',['A','B']]"
   ]
  },
  {
   "cell_type": "markdown",
   "id": "7aaaa9ed",
   "metadata": {},
   "source": [
    "For getting a scalar value"
   ]
  },
  {
   "cell_type": "code",
   "execution_count": 24,
   "id": "66d1ad4f",
   "metadata": {
    "ExecuteTime": {
     "end_time": "2024-04-10T23:33:27.787824Z",
     "start_time": "2024-04-10T23:33:27.773508Z"
    }
   },
   "outputs": [
    {
     "data": {
      "text/plain": [
       "1.5516203778218103"
      ]
     },
     "execution_count": 24,
     "metadata": {},
     "output_type": "execute_result"
    }
   ],
   "source": [
    "df.loc[dates[0],'A']"
   ]
  },
  {
   "cell_type": "markdown",
   "id": "a4a3d8c6",
   "metadata": {},
   "source": [
    "For getting fast access to a scalar (equiv to the prior method)"
   ]
  },
  {
   "cell_type": "code",
   "execution_count": 25,
   "id": "eac1310c",
   "metadata": {
    "ExecuteTime": {
     "end_time": "2024-04-10T23:33:27.803597Z",
     "start_time": "2024-04-10T23:33:27.788708Z"
    }
   },
   "outputs": [
    {
     "data": {
      "text/plain": [
       "1.5516203778218103"
      ]
     },
     "execution_count": 25,
     "metadata": {},
     "output_type": "execute_result"
    }
   ],
   "source": [
    "df.at[dates[0],'A']"
   ]
  },
  {
   "cell_type": "markdown",
   "id": "660a642a",
   "metadata": {},
   "source": [
    "# Selction by Position"
   ]
  },
  {
   "cell_type": "markdown",
   "id": "c153c86f",
   "metadata": {},
   "source": [
    "select via the position of the passed integers"
   ]
  },
  {
   "cell_type": "code",
   "execution_count": 26,
   "id": "ad1bf8bf",
   "metadata": {
    "ExecuteTime": {
     "end_time": "2024-04-10T23:33:27.819719Z",
     "start_time": "2024-04-10T23:33:27.804674Z"
    }
   },
   "outputs": [
    {
     "data": {
      "text/plain": [
       "A    0.490392\n",
       "B   -0.749848\n",
       "C    0.827658\n",
       "D    0.734913\n",
       "Name: 2021-01-04 00:00:00, dtype: float64"
      ]
     },
     "execution_count": 26,
     "metadata": {},
     "output_type": "execute_result"
    }
   ],
   "source": [
    "df.iloc[3]"
   ]
  },
  {
   "cell_type": "markdown",
   "id": "bc64acfc",
   "metadata": {},
   "source": [
    "By integer slices, acting similar to numpy/python"
   ]
  },
  {
   "cell_type": "code",
   "execution_count": 27,
   "id": "f6106e84",
   "metadata": {
    "ExecuteTime": {
     "end_time": "2024-04-10T23:33:27.834980Z",
     "start_time": "2024-04-10T23:33:27.819719Z"
    }
   },
   "outputs": [
    {
     "data": {
      "text/html": [
       "<div>\n",
       "<style scoped>\n",
       "    .dataframe tbody tr th:only-of-type {\n",
       "        vertical-align: middle;\n",
       "    }\n",
       "\n",
       "    .dataframe tbody tr th {\n",
       "        vertical-align: top;\n",
       "    }\n",
       "\n",
       "    .dataframe thead th {\n",
       "        text-align: right;\n",
       "    }\n",
       "</style>\n",
       "<table border=\"1\" class=\"dataframe\">\n",
       "  <thead>\n",
       "    <tr style=\"text-align: right;\">\n",
       "      <th></th>\n",
       "      <th>A</th>\n",
       "      <th>B</th>\n",
       "    </tr>\n",
       "  </thead>\n",
       "  <tbody>\n",
       "    <tr>\n",
       "      <th>2021-01-04</th>\n",
       "      <td>0.490392</td>\n",
       "      <td>-0.749848</td>\n",
       "    </tr>\n",
       "    <tr>\n",
       "      <th>2021-01-05</th>\n",
       "      <td>-0.675232</td>\n",
       "      <td>0.979605</td>\n",
       "    </tr>\n",
       "  </tbody>\n",
       "</table>\n",
       "</div>"
      ],
      "text/plain": [
       "                   A         B\n",
       "2021-01-04  0.490392 -0.749848\n",
       "2021-01-05 -0.675232  0.979605"
      ]
     },
     "execution_count": 27,
     "metadata": {},
     "output_type": "execute_result"
    }
   ],
   "source": [
    "df.iloc[3:5,0:2]"
   ]
  },
  {
   "cell_type": "markdown",
   "id": "d7f1dbaf",
   "metadata": {
    "ExecuteTime": {
     "end_time": "2024-04-10T14:06:52.546537Z",
     "start_time": "2024-04-10T14:06:52.530910Z"
    }
   },
   "source": [
    "By lists of integer position locations, similar to the numpy/python style"
   ]
  },
  {
   "cell_type": "code",
   "execution_count": 28,
   "id": "5f3dd073",
   "metadata": {
    "ExecuteTime": {
     "end_time": "2024-04-10T23:33:27.851073Z",
     "start_time": "2024-04-10T23:33:27.840084Z"
    }
   },
   "outputs": [
    {
     "data": {
      "text/html": [
       "<div>\n",
       "<style scoped>\n",
       "    .dataframe tbody tr th:only-of-type {\n",
       "        vertical-align: middle;\n",
       "    }\n",
       "\n",
       "    .dataframe tbody tr th {\n",
       "        vertical-align: top;\n",
       "    }\n",
       "\n",
       "    .dataframe thead th {\n",
       "        text-align: right;\n",
       "    }\n",
       "</style>\n",
       "<table border=\"1\" class=\"dataframe\">\n",
       "  <thead>\n",
       "    <tr style=\"text-align: right;\">\n",
       "      <th></th>\n",
       "      <th>A</th>\n",
       "      <th>C</th>\n",
       "    </tr>\n",
       "  </thead>\n",
       "  <tbody>\n",
       "    <tr>\n",
       "      <th>2021-01-02</th>\n",
       "      <td>-0.675342</td>\n",
       "      <td>0.617850</td>\n",
       "    </tr>\n",
       "    <tr>\n",
       "      <th>2021-01-03</th>\n",
       "      <td>-0.476723</td>\n",
       "      <td>-0.072375</td>\n",
       "    </tr>\n",
       "    <tr>\n",
       "      <th>2021-01-05</th>\n",
       "      <td>-0.675232</td>\n",
       "      <td>2.059946</td>\n",
       "    </tr>\n",
       "  </tbody>\n",
       "</table>\n",
       "</div>"
      ],
      "text/plain": [
       "                   A         C\n",
       "2021-01-02 -0.675342  0.617850\n",
       "2021-01-03 -0.476723 -0.072375\n",
       "2021-01-05 -0.675232  2.059946"
      ]
     },
     "execution_count": 28,
     "metadata": {},
     "output_type": "execute_result"
    }
   ],
   "source": [
    "df.iloc[[1,2,4],[0,2]]"
   ]
  },
  {
   "cell_type": "markdown",
   "id": "a6ea0bfb",
   "metadata": {},
   "source": [
    "For slicing rows explicitly"
   ]
  },
  {
   "cell_type": "code",
   "execution_count": 29,
   "id": "0f46dc86",
   "metadata": {
    "ExecuteTime": {
     "end_time": "2024-04-10T23:33:27.866826Z",
     "start_time": "2024-04-10T23:33:27.851073Z"
    }
   },
   "outputs": [
    {
     "data": {
      "text/html": [
       "<div>\n",
       "<style scoped>\n",
       "    .dataframe tbody tr th:only-of-type {\n",
       "        vertical-align: middle;\n",
       "    }\n",
       "\n",
       "    .dataframe tbody tr th {\n",
       "        vertical-align: top;\n",
       "    }\n",
       "\n",
       "    .dataframe thead th {\n",
       "        text-align: right;\n",
       "    }\n",
       "</style>\n",
       "<table border=\"1\" class=\"dataframe\">\n",
       "  <thead>\n",
       "    <tr style=\"text-align: right;\">\n",
       "      <th></th>\n",
       "      <th>A</th>\n",
       "      <th>B</th>\n",
       "      <th>C</th>\n",
       "      <th>D</th>\n",
       "    </tr>\n",
       "  </thead>\n",
       "  <tbody>\n",
       "    <tr>\n",
       "      <th>2021-01-02</th>\n",
       "      <td>-0.675342</td>\n",
       "      <td>-1.075331</td>\n",
       "      <td>0.617850</td>\n",
       "      <td>0.406777</td>\n",
       "    </tr>\n",
       "    <tr>\n",
       "      <th>2021-01-03</th>\n",
       "      <td>-0.476723</td>\n",
       "      <td>1.253737</td>\n",
       "      <td>-0.072375</td>\n",
       "      <td>-0.055763</td>\n",
       "    </tr>\n",
       "  </tbody>\n",
       "</table>\n",
       "</div>"
      ],
      "text/plain": [
       "                   A         B         C         D\n",
       "2021-01-02 -0.675342 -1.075331  0.617850  0.406777\n",
       "2021-01-03 -0.476723  1.253737 -0.072375 -0.055763"
      ]
     },
     "execution_count": 29,
     "metadata": {},
     "output_type": "execute_result"
    }
   ],
   "source": [
    "df.iloc[1:3,:]"
   ]
  },
  {
   "cell_type": "markdown",
   "id": "bd178ee0",
   "metadata": {},
   "source": [
    "For slicing columns explicitly"
   ]
  },
  {
   "cell_type": "code",
   "execution_count": 30,
   "id": "4066088f",
   "metadata": {
    "ExecuteTime": {
     "end_time": "2024-04-10T23:33:27.882854Z",
     "start_time": "2024-04-10T23:33:27.866826Z"
    }
   },
   "outputs": [
    {
     "data": {
      "text/html": [
       "<div>\n",
       "<style scoped>\n",
       "    .dataframe tbody tr th:only-of-type {\n",
       "        vertical-align: middle;\n",
       "    }\n",
       "\n",
       "    .dataframe tbody tr th {\n",
       "        vertical-align: top;\n",
       "    }\n",
       "\n",
       "    .dataframe thead th {\n",
       "        text-align: right;\n",
       "    }\n",
       "</style>\n",
       "<table border=\"1\" class=\"dataframe\">\n",
       "  <thead>\n",
       "    <tr style=\"text-align: right;\">\n",
       "      <th></th>\n",
       "      <th>A</th>\n",
       "      <th>B</th>\n",
       "      <th>C</th>\n",
       "      <th>D</th>\n",
       "    </tr>\n",
       "  </thead>\n",
       "  <tbody>\n",
       "    <tr>\n",
       "      <th>2021-01-01</th>\n",
       "      <td>1.55162</td>\n",
       "      <td>-0.817919</td>\n",
       "      <td>-1.280884</td>\n",
       "      <td>-1.134517</td>\n",
       "    </tr>\n",
       "  </tbody>\n",
       "</table>\n",
       "</div>"
      ],
      "text/plain": [
       "                  A         B         C         D\n",
       "2021-01-01  1.55162 -0.817919 -1.280884 -1.134517"
      ]
     },
     "execution_count": 30,
     "metadata": {},
     "output_type": "execute_result"
    }
   ],
   "source": [
    "df.iloc[:1:3]"
   ]
  },
  {
   "cell_type": "markdown",
   "id": "acc332c4",
   "metadata": {},
   "source": [
    "For getting a value explicitly"
   ]
  },
  {
   "cell_type": "code",
   "execution_count": 31,
   "id": "b61d72b5",
   "metadata": {
    "ExecuteTime": {
     "end_time": "2024-04-10T23:33:27.898665Z",
     "start_time": "2024-04-10T23:33:27.885045Z"
    }
   },
   "outputs": [
    {
     "data": {
      "text/plain": [
       "-1.0753311531787335"
      ]
     },
     "execution_count": 31,
     "metadata": {},
     "output_type": "execute_result"
    }
   ],
   "source": [
    "df.iloc[1,1]"
   ]
  },
  {
   "cell_type": "markdown",
   "id": "e6aa16d9",
   "metadata": {},
   "source": [
    "For getting fast access to a scalar (equiv to the prior method)"
   ]
  },
  {
   "cell_type": "code",
   "execution_count": 32,
   "id": "4fe3a2ac",
   "metadata": {
    "ExecuteTime": {
     "end_time": "2024-04-10T23:33:27.914823Z",
     "start_time": "2024-04-10T23:33:27.898665Z"
    }
   },
   "outputs": [
    {
     "data": {
      "text/plain": [
       "-1.0753311531787335"
      ]
     },
     "execution_count": 32,
     "metadata": {},
     "output_type": "execute_result"
    }
   ],
   "source": [
    "df.iat[1,1]"
   ]
  },
  {
   "cell_type": "markdown",
   "id": "fa1761b7",
   "metadata": {
    "ExecuteTime": {
     "end_time": "2024-04-10T14:10:38.813650Z",
     "start_time": "2024-04-10T14:10:38.803693Z"
    }
   },
   "source": [
    "# Boolean Indexing"
   ]
  },
  {
   "cell_type": "markdown",
   "id": "1d43fd0c",
   "metadata": {},
   "source": [
    "Using a single column's values to select data."
   ]
  },
  {
   "cell_type": "code",
   "execution_count": 33,
   "id": "632ca7de",
   "metadata": {
    "ExecuteTime": {
     "end_time": "2024-04-10T23:33:27.930935Z",
     "start_time": "2024-04-10T23:33:27.914823Z"
    }
   },
   "outputs": [
    {
     "data": {
      "text/html": [
       "<div>\n",
       "<style scoped>\n",
       "    .dataframe tbody tr th:only-of-type {\n",
       "        vertical-align: middle;\n",
       "    }\n",
       "\n",
       "    .dataframe tbody tr th {\n",
       "        vertical-align: top;\n",
       "    }\n",
       "\n",
       "    .dataframe thead th {\n",
       "        text-align: right;\n",
       "    }\n",
       "</style>\n",
       "<table border=\"1\" class=\"dataframe\">\n",
       "  <thead>\n",
       "    <tr style=\"text-align: right;\">\n",
       "      <th></th>\n",
       "      <th>A</th>\n",
       "      <th>B</th>\n",
       "      <th>C</th>\n",
       "      <th>D</th>\n",
       "    </tr>\n",
       "  </thead>\n",
       "  <tbody>\n",
       "    <tr>\n",
       "      <th>2021-01-01</th>\n",
       "      <td>1.551620</td>\n",
       "      <td>-0.817919</td>\n",
       "      <td>-1.280884</td>\n",
       "      <td>-1.134517</td>\n",
       "    </tr>\n",
       "    <tr>\n",
       "      <th>2021-01-04</th>\n",
       "      <td>0.490392</td>\n",
       "      <td>-0.749848</td>\n",
       "      <td>0.827658</td>\n",
       "      <td>0.734913</td>\n",
       "    </tr>\n",
       "    <tr>\n",
       "      <th>2021-01-06</th>\n",
       "      <td>2.132374</td>\n",
       "      <td>-0.620940</td>\n",
       "      <td>-0.077464</td>\n",
       "      <td>0.304613</td>\n",
       "    </tr>\n",
       "  </tbody>\n",
       "</table>\n",
       "</div>"
      ],
      "text/plain": [
       "                   A         B         C         D\n",
       "2021-01-01  1.551620 -0.817919 -1.280884 -1.134517\n",
       "2021-01-04  0.490392 -0.749848  0.827658  0.734913\n",
       "2021-01-06  2.132374 -0.620940 -0.077464  0.304613"
      ]
     },
     "execution_count": 33,
     "metadata": {},
     "output_type": "execute_result"
    }
   ],
   "source": [
    "df[df.A>0]"
   ]
  },
  {
   "cell_type": "markdown",
   "id": "63f12b07",
   "metadata": {},
   "source": [
    "A where operation for getting"
   ]
  },
  {
   "cell_type": "code",
   "execution_count": 34,
   "id": "7ecd7982",
   "metadata": {
    "ExecuteTime": {
     "end_time": "2024-04-10T23:33:27.947002Z",
     "start_time": "2024-04-10T23:33:27.930935Z"
    }
   },
   "outputs": [
    {
     "data": {
      "text/html": [
       "<div>\n",
       "<style scoped>\n",
       "    .dataframe tbody tr th:only-of-type {\n",
       "        vertical-align: middle;\n",
       "    }\n",
       "\n",
       "    .dataframe tbody tr th {\n",
       "        vertical-align: top;\n",
       "    }\n",
       "\n",
       "    .dataframe thead th {\n",
       "        text-align: right;\n",
       "    }\n",
       "</style>\n",
       "<table border=\"1\" class=\"dataframe\">\n",
       "  <thead>\n",
       "    <tr style=\"text-align: right;\">\n",
       "      <th></th>\n",
       "      <th>A</th>\n",
       "      <th>B</th>\n",
       "      <th>C</th>\n",
       "      <th>D</th>\n",
       "    </tr>\n",
       "  </thead>\n",
       "  <tbody>\n",
       "    <tr>\n",
       "      <th>2021-01-01</th>\n",
       "      <td>1.551620</td>\n",
       "      <td>NaN</td>\n",
       "      <td>NaN</td>\n",
       "      <td>NaN</td>\n",
       "    </tr>\n",
       "    <tr>\n",
       "      <th>2021-01-02</th>\n",
       "      <td>NaN</td>\n",
       "      <td>NaN</td>\n",
       "      <td>0.617850</td>\n",
       "      <td>0.406777</td>\n",
       "    </tr>\n",
       "    <tr>\n",
       "      <th>2021-01-03</th>\n",
       "      <td>NaN</td>\n",
       "      <td>1.253737</td>\n",
       "      <td>NaN</td>\n",
       "      <td>NaN</td>\n",
       "    </tr>\n",
       "    <tr>\n",
       "      <th>2021-01-04</th>\n",
       "      <td>0.490392</td>\n",
       "      <td>NaN</td>\n",
       "      <td>0.827658</td>\n",
       "      <td>0.734913</td>\n",
       "    </tr>\n",
       "    <tr>\n",
       "      <th>2021-01-05</th>\n",
       "      <td>NaN</td>\n",
       "      <td>0.979605</td>\n",
       "      <td>2.059946</td>\n",
       "      <td>NaN</td>\n",
       "    </tr>\n",
       "    <tr>\n",
       "      <th>2021-01-06</th>\n",
       "      <td>2.132374</td>\n",
       "      <td>NaN</td>\n",
       "      <td>NaN</td>\n",
       "      <td>0.304613</td>\n",
       "    </tr>\n",
       "  </tbody>\n",
       "</table>\n",
       "</div>"
      ],
      "text/plain": [
       "                   A         B         C         D\n",
       "2021-01-01  1.551620       NaN       NaN       NaN\n",
       "2021-01-02       NaN       NaN  0.617850  0.406777\n",
       "2021-01-03       NaN  1.253737       NaN       NaN\n",
       "2021-01-04  0.490392       NaN  0.827658  0.734913\n",
       "2021-01-05       NaN  0.979605  2.059946       NaN\n",
       "2021-01-06  2.132374       NaN       NaN  0.304613"
      ]
     },
     "execution_count": 34,
     "metadata": {},
     "output_type": "execute_result"
    }
   ],
   "source": [
    "df[df>0]"
   ]
  },
  {
   "cell_type": "markdown",
   "id": "07c43567",
   "metadata": {},
   "source": [
    "Using the isin() method for filtering :"
   ]
  },
  {
   "cell_type": "code",
   "execution_count": 35,
   "id": "ee4946d9",
   "metadata": {
    "ExecuteTime": {
     "end_time": "2024-04-10T23:33:27.963190Z",
     "start_time": "2024-04-10T23:33:27.947002Z"
    }
   },
   "outputs": [
    {
     "data": {
      "text/html": [
       "<div>\n",
       "<style scoped>\n",
       "    .dataframe tbody tr th:only-of-type {\n",
       "        vertical-align: middle;\n",
       "    }\n",
       "\n",
       "    .dataframe tbody tr th {\n",
       "        vertical-align: top;\n",
       "    }\n",
       "\n",
       "    .dataframe thead th {\n",
       "        text-align: right;\n",
       "    }\n",
       "</style>\n",
       "<table border=\"1\" class=\"dataframe\">\n",
       "  <thead>\n",
       "    <tr style=\"text-align: right;\">\n",
       "      <th></th>\n",
       "      <th>A</th>\n",
       "      <th>B</th>\n",
       "      <th>C</th>\n",
       "      <th>D</th>\n",
       "      <th>E</th>\n",
       "    </tr>\n",
       "  </thead>\n",
       "  <tbody>\n",
       "    <tr>\n",
       "      <th>2021-01-01</th>\n",
       "      <td>1.551620</td>\n",
       "      <td>-0.817919</td>\n",
       "      <td>-1.280884</td>\n",
       "      <td>-1.134517</td>\n",
       "      <td>one</td>\n",
       "    </tr>\n",
       "    <tr>\n",
       "      <th>2021-01-02</th>\n",
       "      <td>-0.675342</td>\n",
       "      <td>-1.075331</td>\n",
       "      <td>0.617850</td>\n",
       "      <td>0.406777</td>\n",
       "      <td>one</td>\n",
       "    </tr>\n",
       "    <tr>\n",
       "      <th>2021-01-03</th>\n",
       "      <td>-0.476723</td>\n",
       "      <td>1.253737</td>\n",
       "      <td>-0.072375</td>\n",
       "      <td>-0.055763</td>\n",
       "      <td>two</td>\n",
       "    </tr>\n",
       "    <tr>\n",
       "      <th>2021-01-04</th>\n",
       "      <td>0.490392</td>\n",
       "      <td>-0.749848</td>\n",
       "      <td>0.827658</td>\n",
       "      <td>0.734913</td>\n",
       "      <td>three</td>\n",
       "    </tr>\n",
       "    <tr>\n",
       "      <th>2021-01-05</th>\n",
       "      <td>-0.675232</td>\n",
       "      <td>0.979605</td>\n",
       "      <td>2.059946</td>\n",
       "      <td>-0.471373</td>\n",
       "      <td>four</td>\n",
       "    </tr>\n",
       "    <tr>\n",
       "      <th>2021-01-06</th>\n",
       "      <td>2.132374</td>\n",
       "      <td>-0.620940</td>\n",
       "      <td>-0.077464</td>\n",
       "      <td>0.304613</td>\n",
       "      <td>three</td>\n",
       "    </tr>\n",
       "  </tbody>\n",
       "</table>\n",
       "</div>"
      ],
      "text/plain": [
       "                   A         B         C         D      E\n",
       "2021-01-01  1.551620 -0.817919 -1.280884 -1.134517    one\n",
       "2021-01-02 -0.675342 -1.075331  0.617850  0.406777    one\n",
       "2021-01-03 -0.476723  1.253737 -0.072375 -0.055763    two\n",
       "2021-01-04  0.490392 -0.749848  0.827658  0.734913  three\n",
       "2021-01-05 -0.675232  0.979605  2.059946 -0.471373   four\n",
       "2021-01-06  2.132374 -0.620940 -0.077464  0.304613  three"
      ]
     },
     "execution_count": 35,
     "metadata": {},
     "output_type": "execute_result"
    }
   ],
   "source": [
    "df2 = df.copy()\n",
    "df2['E']= ['one','one','two','three','four','three']\n",
    "df2"
   ]
  },
  {
   "cell_type": "code",
   "execution_count": 36,
   "id": "18a0e2ae",
   "metadata": {
    "ExecuteTime": {
     "end_time": "2024-04-10T23:33:27.979224Z",
     "start_time": "2024-04-10T23:33:27.964787Z"
    }
   },
   "outputs": [
    {
     "data": {
      "text/html": [
       "<div>\n",
       "<style scoped>\n",
       "    .dataframe tbody tr th:only-of-type {\n",
       "        vertical-align: middle;\n",
       "    }\n",
       "\n",
       "    .dataframe tbody tr th {\n",
       "        vertical-align: top;\n",
       "    }\n",
       "\n",
       "    .dataframe thead th {\n",
       "        text-align: right;\n",
       "    }\n",
       "</style>\n",
       "<table border=\"1\" class=\"dataframe\">\n",
       "  <thead>\n",
       "    <tr style=\"text-align: right;\">\n",
       "      <th></th>\n",
       "      <th>A</th>\n",
       "      <th>B</th>\n",
       "      <th>C</th>\n",
       "      <th>D</th>\n",
       "      <th>E</th>\n",
       "    </tr>\n",
       "  </thead>\n",
       "  <tbody>\n",
       "    <tr>\n",
       "      <th>2021-01-03</th>\n",
       "      <td>-0.476723</td>\n",
       "      <td>1.253737</td>\n",
       "      <td>-0.072375</td>\n",
       "      <td>-0.055763</td>\n",
       "      <td>two</td>\n",
       "    </tr>\n",
       "    <tr>\n",
       "      <th>2021-01-05</th>\n",
       "      <td>-0.675232</td>\n",
       "      <td>0.979605</td>\n",
       "      <td>2.059946</td>\n",
       "      <td>-0.471373</td>\n",
       "      <td>four</td>\n",
       "    </tr>\n",
       "  </tbody>\n",
       "</table>\n",
       "</div>"
      ],
      "text/plain": [
       "                   A         B         C         D     E\n",
       "2021-01-03 -0.476723  1.253737 -0.072375 -0.055763   two\n",
       "2021-01-05 -0.675232  0.979605  2.059946 -0.471373  four"
      ]
     },
     "execution_count": 36,
     "metadata": {},
     "output_type": "execute_result"
    }
   ],
   "source": [
    "df2[df2['E'].isin(['two','four'])]"
   ]
  },
  {
   "cell_type": "markdown",
   "id": "b33f1382",
   "metadata": {},
   "source": [
    "# Setting"
   ]
  },
  {
   "cell_type": "markdown",
   "id": "1269aa87",
   "metadata": {},
   "source": [
    "Setting a new column automatically aligns the data by the indexes"
   ]
  },
  {
   "cell_type": "code",
   "execution_count": 37,
   "id": "62b62e53",
   "metadata": {
    "ExecuteTime": {
     "end_time": "2024-04-10T23:33:27.994889Z",
     "start_time": "2024-04-10T23:33:27.979224Z"
    }
   },
   "outputs": [
    {
     "data": {
      "text/plain": [
       "2021-01-01    1\n",
       "2021-01-02    2\n",
       "2021-01-03    3\n",
       "2021-01-04    4\n",
       "2021-01-05    5\n",
       "2021-01-06    6\n",
       "Freq: D, dtype: int64"
      ]
     },
     "execution_count": 37,
     "metadata": {},
     "output_type": "execute_result"
    }
   ],
   "source": [
    "s1 = pd.Series([1,2,3,4,5,6],index=pd.date_range('20210101',periods=6))\n",
    "s1"
   ]
  },
  {
   "cell_type": "code",
   "execution_count": 38,
   "id": "8bfa544e",
   "metadata": {
    "ExecuteTime": {
     "end_time": "2024-04-10T23:33:28.010769Z",
     "start_time": "2024-04-10T23:33:27.994889Z"
    }
   },
   "outputs": [],
   "source": [
    "df['F'] =s1"
   ]
  },
  {
   "cell_type": "markdown",
   "id": "ec5aa711",
   "metadata": {},
   "source": [
    "Setting values by label"
   ]
  },
  {
   "cell_type": "code",
   "execution_count": 39,
   "id": "adff98c4",
   "metadata": {
    "ExecuteTime": {
     "end_time": "2024-04-10T23:33:28.026724Z",
     "start_time": "2024-04-10T23:33:28.014791Z"
    }
   },
   "outputs": [],
   "source": [
    "df.at[dates[0],'A'] = 0"
   ]
  },
  {
   "cell_type": "markdown",
   "id": "409c77e5",
   "metadata": {
    "ExecuteTime": {
     "end_time": "2024-04-10T14:19:10.844325Z",
     "start_time": "2024-04-10T14:19:10.832039Z"
    }
   },
   "source": [
    "Setting values by position"
   ]
  },
  {
   "cell_type": "code",
   "execution_count": 40,
   "id": "c272301b",
   "metadata": {
    "ExecuteTime": {
     "end_time": "2024-04-10T23:33:28.042518Z",
     "start_time": "2024-04-10T23:33:28.026724Z"
    }
   },
   "outputs": [],
   "source": [
    "df.iat[0,1] = 0"
   ]
  },
  {
   "cell_type": "markdown",
   "id": "d8e37564",
   "metadata": {},
   "source": [
    "Setting by assigning with a numpy array"
   ]
  },
  {
   "cell_type": "code",
   "execution_count": 41,
   "id": "cfa34007",
   "metadata": {
    "ExecuteTime": {
     "end_time": "2024-04-10T23:33:28.058345Z",
     "start_time": "2024-04-10T23:33:28.044687Z"
    }
   },
   "outputs": [],
   "source": [
    "df.loc[:,'D'] = np.array([5]*len(df))"
   ]
  },
  {
   "cell_type": "markdown",
   "id": "292f1709",
   "metadata": {},
   "source": [
    " The results of the prior setting operations"
   ]
  },
  {
   "cell_type": "code",
   "execution_count": 42,
   "id": "7ff96429",
   "metadata": {
    "ExecuteTime": {
     "end_time": "2024-04-10T23:33:28.074864Z",
     "start_time": "2024-04-10T23:33:28.058345Z"
    }
   },
   "outputs": [
    {
     "data": {
      "text/html": [
       "<div>\n",
       "<style scoped>\n",
       "    .dataframe tbody tr th:only-of-type {\n",
       "        vertical-align: middle;\n",
       "    }\n",
       "\n",
       "    .dataframe tbody tr th {\n",
       "        vertical-align: top;\n",
       "    }\n",
       "\n",
       "    .dataframe thead th {\n",
       "        text-align: right;\n",
       "    }\n",
       "</style>\n",
       "<table border=\"1\" class=\"dataframe\">\n",
       "  <thead>\n",
       "    <tr style=\"text-align: right;\">\n",
       "      <th></th>\n",
       "      <th>A</th>\n",
       "      <th>B</th>\n",
       "      <th>C</th>\n",
       "      <th>D</th>\n",
       "      <th>F</th>\n",
       "    </tr>\n",
       "  </thead>\n",
       "  <tbody>\n",
       "    <tr>\n",
       "      <th>2021-01-01</th>\n",
       "      <td>0.000000</td>\n",
       "      <td>0.000000</td>\n",
       "      <td>-1.280884</td>\n",
       "      <td>5.0</td>\n",
       "      <td>1</td>\n",
       "    </tr>\n",
       "    <tr>\n",
       "      <th>2021-01-02</th>\n",
       "      <td>-0.675342</td>\n",
       "      <td>-1.075331</td>\n",
       "      <td>0.617850</td>\n",
       "      <td>5.0</td>\n",
       "      <td>2</td>\n",
       "    </tr>\n",
       "    <tr>\n",
       "      <th>2021-01-03</th>\n",
       "      <td>-0.476723</td>\n",
       "      <td>1.253737</td>\n",
       "      <td>-0.072375</td>\n",
       "      <td>5.0</td>\n",
       "      <td>3</td>\n",
       "    </tr>\n",
       "    <tr>\n",
       "      <th>2021-01-04</th>\n",
       "      <td>0.490392</td>\n",
       "      <td>-0.749848</td>\n",
       "      <td>0.827658</td>\n",
       "      <td>5.0</td>\n",
       "      <td>4</td>\n",
       "    </tr>\n",
       "    <tr>\n",
       "      <th>2021-01-05</th>\n",
       "      <td>-0.675232</td>\n",
       "      <td>0.979605</td>\n",
       "      <td>2.059946</td>\n",
       "      <td>5.0</td>\n",
       "      <td>5</td>\n",
       "    </tr>\n",
       "    <tr>\n",
       "      <th>2021-01-06</th>\n",
       "      <td>2.132374</td>\n",
       "      <td>-0.620940</td>\n",
       "      <td>-0.077464</td>\n",
       "      <td>5.0</td>\n",
       "      <td>6</td>\n",
       "    </tr>\n",
       "  </tbody>\n",
       "</table>\n",
       "</div>"
      ],
      "text/plain": [
       "                   A         B         C    D  F\n",
       "2021-01-01  0.000000  0.000000 -1.280884  5.0  1\n",
       "2021-01-02 -0.675342 -1.075331  0.617850  5.0  2\n",
       "2021-01-03 -0.476723  1.253737 -0.072375  5.0  3\n",
       "2021-01-04  0.490392 -0.749848  0.827658  5.0  4\n",
       "2021-01-05 -0.675232  0.979605  2.059946  5.0  5\n",
       "2021-01-06  2.132374 -0.620940 -0.077464  5.0  6"
      ]
     },
     "execution_count": 42,
     "metadata": {},
     "output_type": "execute_result"
    }
   ],
   "source": [
    "df"
   ]
  },
  {
   "cell_type": "markdown",
   "id": "4dc5f011",
   "metadata": {},
   "source": [
    "# Missing Data"
   ]
  },
  {
   "cell_type": "markdown",
   "id": "3c2dbd66",
   "metadata": {},
   "source": [
    "pandas primarily uses the value np.nan to represent missing data.It is by default not included in compiutations . see the missing data sectuion \n",
    "\n",
    "Reindexing allows you to change/add/delete the index on a specified axis. this returns a copy of the data"
   ]
  },
  {
   "cell_type": "code",
   "execution_count": 43,
   "id": "88d691f3",
   "metadata": {
    "ExecuteTime": {
     "end_time": "2024-04-10T23:33:28.089966Z",
     "start_time": "2024-04-10T23:33:28.076840Z"
    }
   },
   "outputs": [
    {
     "data": {
      "text/html": [
       "<div>\n",
       "<style scoped>\n",
       "    .dataframe tbody tr th:only-of-type {\n",
       "        vertical-align: middle;\n",
       "    }\n",
       "\n",
       "    .dataframe tbody tr th {\n",
       "        vertical-align: top;\n",
       "    }\n",
       "\n",
       "    .dataframe thead th {\n",
       "        text-align: right;\n",
       "    }\n",
       "</style>\n",
       "<table border=\"1\" class=\"dataframe\">\n",
       "  <thead>\n",
       "    <tr style=\"text-align: right;\">\n",
       "      <th></th>\n",
       "      <th>A</th>\n",
       "      <th>B</th>\n",
       "      <th>C</th>\n",
       "      <th>D</th>\n",
       "      <th>F</th>\n",
       "      <th>E</th>\n",
       "    </tr>\n",
       "  </thead>\n",
       "  <tbody>\n",
       "    <tr>\n",
       "      <th>2021-01-01</th>\n",
       "      <td>0.000000</td>\n",
       "      <td>0.000000</td>\n",
       "      <td>-1.280884</td>\n",
       "      <td>5.0</td>\n",
       "      <td>1</td>\n",
       "      <td>1.0</td>\n",
       "    </tr>\n",
       "    <tr>\n",
       "      <th>2021-01-02</th>\n",
       "      <td>-0.675342</td>\n",
       "      <td>-1.075331</td>\n",
       "      <td>0.617850</td>\n",
       "      <td>5.0</td>\n",
       "      <td>2</td>\n",
       "      <td>1.0</td>\n",
       "    </tr>\n",
       "    <tr>\n",
       "      <th>2021-01-03</th>\n",
       "      <td>-0.476723</td>\n",
       "      <td>1.253737</td>\n",
       "      <td>-0.072375</td>\n",
       "      <td>5.0</td>\n",
       "      <td>3</td>\n",
       "      <td>NaN</td>\n",
       "    </tr>\n",
       "    <tr>\n",
       "      <th>2021-01-04</th>\n",
       "      <td>0.490392</td>\n",
       "      <td>-0.749848</td>\n",
       "      <td>0.827658</td>\n",
       "      <td>5.0</td>\n",
       "      <td>4</td>\n",
       "      <td>NaN</td>\n",
       "    </tr>\n",
       "  </tbody>\n",
       "</table>\n",
       "</div>"
      ],
      "text/plain": [
       "                   A         B         C    D  F    E\n",
       "2021-01-01  0.000000  0.000000 -1.280884  5.0  1  1.0\n",
       "2021-01-02 -0.675342 -1.075331  0.617850  5.0  2  1.0\n",
       "2021-01-03 -0.476723  1.253737 -0.072375  5.0  3  NaN\n",
       "2021-01-04  0.490392 -0.749848  0.827658  5.0  4  NaN"
      ]
     },
     "execution_count": 43,
     "metadata": {},
     "output_type": "execute_result"
    }
   ],
   "source": [
    "df1 = df.reindex(index=dates[0:4],columns=list(df.columns)+['E'])\n",
    "df1.loc[dates[0]:dates[1],'E'] = 1\n",
    "df1"
   ]
  },
  {
   "cell_type": "markdown",
   "id": "89e86f9f",
   "metadata": {},
   "source": [
    "To drop any rows that have missing data"
   ]
  },
  {
   "cell_type": "code",
   "execution_count": 44,
   "id": "cd240cb4",
   "metadata": {
    "ExecuteTime": {
     "end_time": "2024-04-10T23:33:28.105695Z",
     "start_time": "2024-04-10T23:33:28.089966Z"
    }
   },
   "outputs": [
    {
     "data": {
      "text/html": [
       "<div>\n",
       "<style scoped>\n",
       "    .dataframe tbody tr th:only-of-type {\n",
       "        vertical-align: middle;\n",
       "    }\n",
       "\n",
       "    .dataframe tbody tr th {\n",
       "        vertical-align: top;\n",
       "    }\n",
       "\n",
       "    .dataframe thead th {\n",
       "        text-align: right;\n",
       "    }\n",
       "</style>\n",
       "<table border=\"1\" class=\"dataframe\">\n",
       "  <thead>\n",
       "    <tr style=\"text-align: right;\">\n",
       "      <th></th>\n",
       "      <th>A</th>\n",
       "      <th>B</th>\n",
       "      <th>C</th>\n",
       "      <th>D</th>\n",
       "      <th>F</th>\n",
       "      <th>E</th>\n",
       "    </tr>\n",
       "  </thead>\n",
       "  <tbody>\n",
       "    <tr>\n",
       "      <th>2021-01-01</th>\n",
       "      <td>0.000000</td>\n",
       "      <td>0.000000</td>\n",
       "      <td>-1.280884</td>\n",
       "      <td>5.0</td>\n",
       "      <td>1</td>\n",
       "      <td>1.0</td>\n",
       "    </tr>\n",
       "    <tr>\n",
       "      <th>2021-01-02</th>\n",
       "      <td>-0.675342</td>\n",
       "      <td>-1.075331</td>\n",
       "      <td>0.617850</td>\n",
       "      <td>5.0</td>\n",
       "      <td>2</td>\n",
       "      <td>1.0</td>\n",
       "    </tr>\n",
       "  </tbody>\n",
       "</table>\n",
       "</div>"
      ],
      "text/plain": [
       "                   A         B         C    D  F    E\n",
       "2021-01-01  0.000000  0.000000 -1.280884  5.0  1  1.0\n",
       "2021-01-02 -0.675342 -1.075331  0.617850  5.0  2  1.0"
      ]
     },
     "execution_count": 44,
     "metadata": {},
     "output_type": "execute_result"
    }
   ],
   "source": [
    "df1.dropna(how='any')"
   ]
  },
  {
   "cell_type": "markdown",
   "id": "7ce21ea1",
   "metadata": {},
   "source": [
    "Filling missing data"
   ]
  },
  {
   "cell_type": "code",
   "execution_count": 45,
   "id": "0220e4f8",
   "metadata": {
    "ExecuteTime": {
     "end_time": "2024-04-10T23:33:28.121520Z",
     "start_time": "2024-04-10T23:33:28.105695Z"
    }
   },
   "outputs": [
    {
     "data": {
      "text/html": [
       "<div>\n",
       "<style scoped>\n",
       "    .dataframe tbody tr th:only-of-type {\n",
       "        vertical-align: middle;\n",
       "    }\n",
       "\n",
       "    .dataframe tbody tr th {\n",
       "        vertical-align: top;\n",
       "    }\n",
       "\n",
       "    .dataframe thead th {\n",
       "        text-align: right;\n",
       "    }\n",
       "</style>\n",
       "<table border=\"1\" class=\"dataframe\">\n",
       "  <thead>\n",
       "    <tr style=\"text-align: right;\">\n",
       "      <th></th>\n",
       "      <th>A</th>\n",
       "      <th>B</th>\n",
       "      <th>C</th>\n",
       "      <th>D</th>\n",
       "      <th>F</th>\n",
       "      <th>E</th>\n",
       "    </tr>\n",
       "  </thead>\n",
       "  <tbody>\n",
       "    <tr>\n",
       "      <th>2021-01-01</th>\n",
       "      <td>0.000000</td>\n",
       "      <td>0.000000</td>\n",
       "      <td>-1.280884</td>\n",
       "      <td>5.0</td>\n",
       "      <td>1</td>\n",
       "      <td>1.0</td>\n",
       "    </tr>\n",
       "    <tr>\n",
       "      <th>2021-01-02</th>\n",
       "      <td>-0.675342</td>\n",
       "      <td>-1.075331</td>\n",
       "      <td>0.617850</td>\n",
       "      <td>5.0</td>\n",
       "      <td>2</td>\n",
       "      <td>1.0</td>\n",
       "    </tr>\n",
       "    <tr>\n",
       "      <th>2021-01-03</th>\n",
       "      <td>-0.476723</td>\n",
       "      <td>1.253737</td>\n",
       "      <td>-0.072375</td>\n",
       "      <td>5.0</td>\n",
       "      <td>3</td>\n",
       "      <td>5.0</td>\n",
       "    </tr>\n",
       "    <tr>\n",
       "      <th>2021-01-04</th>\n",
       "      <td>0.490392</td>\n",
       "      <td>-0.749848</td>\n",
       "      <td>0.827658</td>\n",
       "      <td>5.0</td>\n",
       "      <td>4</td>\n",
       "      <td>5.0</td>\n",
       "    </tr>\n",
       "  </tbody>\n",
       "</table>\n",
       "</div>"
      ],
      "text/plain": [
       "                   A         B         C    D  F    E\n",
       "2021-01-01  0.000000  0.000000 -1.280884  5.0  1  1.0\n",
       "2021-01-02 -0.675342 -1.075331  0.617850  5.0  2  1.0\n",
       "2021-01-03 -0.476723  1.253737 -0.072375  5.0  3  5.0\n",
       "2021-01-04  0.490392 -0.749848  0.827658  5.0  4  5.0"
      ]
     },
     "execution_count": 45,
     "metadata": {},
     "output_type": "execute_result"
    }
   ],
   "source": [
    "df1.fillna(value=5)"
   ]
  },
  {
   "cell_type": "markdown",
   "id": "a43888c2",
   "metadata": {},
   "source": [
    "To get the boolean mask where values are nan"
   ]
  },
  {
   "cell_type": "code",
   "execution_count": 46,
   "id": "98309278",
   "metadata": {
    "ExecuteTime": {
     "end_time": "2024-04-10T23:33:28.137429Z",
     "start_time": "2024-04-10T23:33:28.123010Z"
    }
   },
   "outputs": [
    {
     "data": {
      "text/html": [
       "<div>\n",
       "<style scoped>\n",
       "    .dataframe tbody tr th:only-of-type {\n",
       "        vertical-align: middle;\n",
       "    }\n",
       "\n",
       "    .dataframe tbody tr th {\n",
       "        vertical-align: top;\n",
       "    }\n",
       "\n",
       "    .dataframe thead th {\n",
       "        text-align: right;\n",
       "    }\n",
       "</style>\n",
       "<table border=\"1\" class=\"dataframe\">\n",
       "  <thead>\n",
       "    <tr style=\"text-align: right;\">\n",
       "      <th></th>\n",
       "      <th>A</th>\n",
       "      <th>B</th>\n",
       "      <th>C</th>\n",
       "      <th>D</th>\n",
       "      <th>F</th>\n",
       "      <th>E</th>\n",
       "    </tr>\n",
       "  </thead>\n",
       "  <tbody>\n",
       "    <tr>\n",
       "      <th>2021-01-01</th>\n",
       "      <td>False</td>\n",
       "      <td>False</td>\n",
       "      <td>False</td>\n",
       "      <td>False</td>\n",
       "      <td>False</td>\n",
       "      <td>False</td>\n",
       "    </tr>\n",
       "    <tr>\n",
       "      <th>2021-01-02</th>\n",
       "      <td>False</td>\n",
       "      <td>False</td>\n",
       "      <td>False</td>\n",
       "      <td>False</td>\n",
       "      <td>False</td>\n",
       "      <td>False</td>\n",
       "    </tr>\n",
       "    <tr>\n",
       "      <th>2021-01-03</th>\n",
       "      <td>False</td>\n",
       "      <td>False</td>\n",
       "      <td>False</td>\n",
       "      <td>False</td>\n",
       "      <td>False</td>\n",
       "      <td>True</td>\n",
       "    </tr>\n",
       "    <tr>\n",
       "      <th>2021-01-04</th>\n",
       "      <td>False</td>\n",
       "      <td>False</td>\n",
       "      <td>False</td>\n",
       "      <td>False</td>\n",
       "      <td>False</td>\n",
       "      <td>True</td>\n",
       "    </tr>\n",
       "  </tbody>\n",
       "</table>\n",
       "</div>"
      ],
      "text/plain": [
       "                A      B      C      D      F      E\n",
       "2021-01-01  False  False  False  False  False  False\n",
       "2021-01-02  False  False  False  False  False  False\n",
       "2021-01-03  False  False  False  False  False   True\n",
       "2021-01-04  False  False  False  False  False   True"
      ]
     },
     "execution_count": 46,
     "metadata": {},
     "output_type": "execute_result"
    }
   ],
   "source": [
    "pd.isnull(df1)"
   ]
  },
  {
   "cell_type": "markdown",
   "id": "101021a6",
   "metadata": {},
   "source": [
    "# Operations"
   ]
  },
  {
   "cell_type": "markdown",
   "id": "bcdcb106",
   "metadata": {},
   "source": [
    "## Stats"
   ]
  },
  {
   "cell_type": "markdown",
   "id": "ab7caa19",
   "metadata": {},
   "source": [
    "Operations is general exclude missing data\n",
    "Performing a descriptive statistic"
   ]
  },
  {
   "cell_type": "code",
   "execution_count": 47,
   "id": "446cef47",
   "metadata": {
    "ExecuteTime": {
     "end_time": "2024-04-10T23:33:28.153124Z",
     "start_time": "2024-04-10T23:33:28.138733Z"
    }
   },
   "outputs": [
    {
     "data": {
      "text/plain": [
       "A    0.132578\n",
       "B   -0.035463\n",
       "C    0.345789\n",
       "D    5.000000\n",
       "F    3.500000\n",
       "dtype: float64"
      ]
     },
     "execution_count": 47,
     "metadata": {},
     "output_type": "execute_result"
    }
   ],
   "source": [
    "df.mean()"
   ]
  },
  {
   "cell_type": "markdown",
   "id": "4a23ef04",
   "metadata": {},
   "source": [
    "Same operations on the other axis"
   ]
  },
  {
   "cell_type": "code",
   "execution_count": 48,
   "id": "8ee6ab7f",
   "metadata": {
    "ExecuteTime": {
     "end_time": "2024-04-10T23:33:28.169089Z",
     "start_time": "2024-04-10T23:33:28.154729Z"
    }
   },
   "outputs": [
    {
     "data": {
      "text/plain": [
       "2021-01-01    0.943823\n",
       "2021-01-02    1.173435\n",
       "2021-01-03    1.740928\n",
       "2021-01-04    1.913640\n",
       "2021-01-05    2.472864\n",
       "2021-01-06    2.486794\n",
       "Freq: D, dtype: float64"
      ]
     },
     "execution_count": 48,
     "metadata": {},
     "output_type": "execute_result"
    }
   ],
   "source": [
    "df.mean(1)"
   ]
  },
  {
   "cell_type": "markdown",
   "id": "89aab8c6",
   "metadata": {},
   "source": [
    "Operating with objects that have different dimensionality and need alignmnet. In addtiion , pandas automatically brodcasts along the specified dimension."
   ]
  },
  {
   "cell_type": "code",
   "execution_count": 49,
   "id": "8f0d3888",
   "metadata": {
    "ExecuteTime": {
     "end_time": "2024-04-10T23:33:28.185054Z",
     "start_time": "2024-04-10T23:33:28.169089Z"
    }
   },
   "outputs": [
    {
     "data": {
      "text/plain": [
       "2021-01-01    NaN\n",
       "2021-01-02    NaN\n",
       "2021-01-03    1.0\n",
       "2021-01-04    3.0\n",
       "2021-01-05    5.0\n",
       "2021-01-06    NaN\n",
       "Freq: D, dtype: float64"
      ]
     },
     "execution_count": 49,
     "metadata": {},
     "output_type": "execute_result"
    }
   ],
   "source": [
    "s = pd.Series([1,3,5,np.nan,6,8],index=dates).shift(2)\n",
    "s"
   ]
  },
  {
   "cell_type": "code",
   "execution_count": 50,
   "id": "7902a2d8",
   "metadata": {
    "ExecuteTime": {
     "end_time": "2024-04-10T23:33:28.200793Z",
     "start_time": "2024-04-10T23:33:28.185281Z"
    }
   },
   "outputs": [
    {
     "data": {
      "text/html": [
       "<div>\n",
       "<style scoped>\n",
       "    .dataframe tbody tr th:only-of-type {\n",
       "        vertical-align: middle;\n",
       "    }\n",
       "\n",
       "    .dataframe tbody tr th {\n",
       "        vertical-align: top;\n",
       "    }\n",
       "\n",
       "    .dataframe thead th {\n",
       "        text-align: right;\n",
       "    }\n",
       "</style>\n",
       "<table border=\"1\" class=\"dataframe\">\n",
       "  <thead>\n",
       "    <tr style=\"text-align: right;\">\n",
       "      <th></th>\n",
       "      <th>A</th>\n",
       "      <th>B</th>\n",
       "      <th>C</th>\n",
       "      <th>D</th>\n",
       "      <th>F</th>\n",
       "    </tr>\n",
       "  </thead>\n",
       "  <tbody>\n",
       "    <tr>\n",
       "      <th>2021-01-01</th>\n",
       "      <td>NaN</td>\n",
       "      <td>NaN</td>\n",
       "      <td>NaN</td>\n",
       "      <td>NaN</td>\n",
       "      <td>NaN</td>\n",
       "    </tr>\n",
       "    <tr>\n",
       "      <th>2021-01-02</th>\n",
       "      <td>NaN</td>\n",
       "      <td>NaN</td>\n",
       "      <td>NaN</td>\n",
       "      <td>NaN</td>\n",
       "      <td>NaN</td>\n",
       "    </tr>\n",
       "    <tr>\n",
       "      <th>2021-01-03</th>\n",
       "      <td>-1.476723</td>\n",
       "      <td>0.253737</td>\n",
       "      <td>-1.072375</td>\n",
       "      <td>4.0</td>\n",
       "      <td>2.0</td>\n",
       "    </tr>\n",
       "    <tr>\n",
       "      <th>2021-01-04</th>\n",
       "      <td>-2.509608</td>\n",
       "      <td>-3.749848</td>\n",
       "      <td>-2.172342</td>\n",
       "      <td>2.0</td>\n",
       "      <td>1.0</td>\n",
       "    </tr>\n",
       "    <tr>\n",
       "      <th>2021-01-05</th>\n",
       "      <td>-5.675232</td>\n",
       "      <td>-4.020395</td>\n",
       "      <td>-2.940054</td>\n",
       "      <td>0.0</td>\n",
       "      <td>0.0</td>\n",
       "    </tr>\n",
       "    <tr>\n",
       "      <th>2021-01-06</th>\n",
       "      <td>NaN</td>\n",
       "      <td>NaN</td>\n",
       "      <td>NaN</td>\n",
       "      <td>NaN</td>\n",
       "      <td>NaN</td>\n",
       "    </tr>\n",
       "  </tbody>\n",
       "</table>\n",
       "</div>"
      ],
      "text/plain": [
       "                   A         B         C    D    F\n",
       "2021-01-01       NaN       NaN       NaN  NaN  NaN\n",
       "2021-01-02       NaN       NaN       NaN  NaN  NaN\n",
       "2021-01-03 -1.476723  0.253737 -1.072375  4.0  2.0\n",
       "2021-01-04 -2.509608 -3.749848 -2.172342  2.0  1.0\n",
       "2021-01-05 -5.675232 -4.020395 -2.940054  0.0  0.0\n",
       "2021-01-06       NaN       NaN       NaN  NaN  NaN"
      ]
     },
     "execution_count": 50,
     "metadata": {},
     "output_type": "execute_result"
    }
   ],
   "source": [
    "df.sub(s, axis='index')"
   ]
  },
  {
   "cell_type": "markdown",
   "id": "a9e0e756",
   "metadata": {},
   "source": [
    "# Apply"
   ]
  },
  {
   "cell_type": "markdown",
   "id": "7342ea8f",
   "metadata": {},
   "source": [
    "Applying functions to the Data"
   ]
  },
  {
   "cell_type": "code",
   "execution_count": 51,
   "id": "858413d5",
   "metadata": {
    "ExecuteTime": {
     "end_time": "2024-04-10T23:33:28.232803Z",
     "start_time": "2024-04-10T23:33:28.200793Z"
    }
   },
   "outputs": [
    {
     "data": {
      "text/html": [
       "<div>\n",
       "<style scoped>\n",
       "    .dataframe tbody tr th:only-of-type {\n",
       "        vertical-align: middle;\n",
       "    }\n",
       "\n",
       "    .dataframe tbody tr th {\n",
       "        vertical-align: top;\n",
       "    }\n",
       "\n",
       "    .dataframe thead th {\n",
       "        text-align: right;\n",
       "    }\n",
       "</style>\n",
       "<table border=\"1\" class=\"dataframe\">\n",
       "  <thead>\n",
       "    <tr style=\"text-align: right;\">\n",
       "      <th></th>\n",
       "      <th>A</th>\n",
       "      <th>B</th>\n",
       "      <th>C</th>\n",
       "      <th>D</th>\n",
       "      <th>F</th>\n",
       "    </tr>\n",
       "  </thead>\n",
       "  <tbody>\n",
       "    <tr>\n",
       "      <th>2021-01-01</th>\n",
       "      <td>0.000000</td>\n",
       "      <td>0.000000</td>\n",
       "      <td>-1.280884</td>\n",
       "      <td>5.0</td>\n",
       "      <td>1</td>\n",
       "    </tr>\n",
       "    <tr>\n",
       "      <th>2021-01-02</th>\n",
       "      <td>-0.675342</td>\n",
       "      <td>-1.075331</td>\n",
       "      <td>-0.663033</td>\n",
       "      <td>10.0</td>\n",
       "      <td>3</td>\n",
       "    </tr>\n",
       "    <tr>\n",
       "      <th>2021-01-03</th>\n",
       "      <td>-1.152064</td>\n",
       "      <td>0.178405</td>\n",
       "      <td>-0.735408</td>\n",
       "      <td>15.0</td>\n",
       "      <td>6</td>\n",
       "    </tr>\n",
       "    <tr>\n",
       "      <th>2021-01-04</th>\n",
       "      <td>-0.661672</td>\n",
       "      <td>-0.571443</td>\n",
       "      <td>0.092251</td>\n",
       "      <td>20.0</td>\n",
       "      <td>10</td>\n",
       "    </tr>\n",
       "    <tr>\n",
       "      <th>2021-01-05</th>\n",
       "      <td>-1.336904</td>\n",
       "      <td>0.408162</td>\n",
       "      <td>2.152196</td>\n",
       "      <td>25.0</td>\n",
       "      <td>15</td>\n",
       "    </tr>\n",
       "    <tr>\n",
       "      <th>2021-01-06</th>\n",
       "      <td>0.795470</td>\n",
       "      <td>-0.212778</td>\n",
       "      <td>2.074732</td>\n",
       "      <td>30.0</td>\n",
       "      <td>21</td>\n",
       "    </tr>\n",
       "  </tbody>\n",
       "</table>\n",
       "</div>"
      ],
      "text/plain": [
       "                   A         B         C     D   F\n",
       "2021-01-01  0.000000  0.000000 -1.280884   5.0   1\n",
       "2021-01-02 -0.675342 -1.075331 -0.663033  10.0   3\n",
       "2021-01-03 -1.152064  0.178405 -0.735408  15.0   6\n",
       "2021-01-04 -0.661672 -0.571443  0.092251  20.0  10\n",
       "2021-01-05 -1.336904  0.408162  2.152196  25.0  15\n",
       "2021-01-06  0.795470 -0.212778  2.074732  30.0  21"
      ]
     },
     "execution_count": 51,
     "metadata": {},
     "output_type": "execute_result"
    }
   ],
   "source": [
    "df.apply(np.cumsum)"
   ]
  },
  {
   "cell_type": "code",
   "execution_count": 52,
   "id": "0ca8013c",
   "metadata": {
    "ExecuteTime": {
     "end_time": "2024-04-10T23:33:28.248896Z",
     "start_time": "2024-04-10T23:33:28.235109Z"
    }
   },
   "outputs": [
    {
     "data": {
      "text/plain": [
       "A    2.807716\n",
       "B    2.329068\n",
       "C    3.340829\n",
       "D    0.000000\n",
       "F    5.000000\n",
       "dtype: float64"
      ]
     },
     "execution_count": 52,
     "metadata": {},
     "output_type": "execute_result"
    }
   ],
   "source": [
    "df.apply(lambda x: x.max()-x.min())"
   ]
  },
  {
   "cell_type": "code",
   "execution_count": 53,
   "id": "4b48c990",
   "metadata": {
    "ExecuteTime": {
     "end_time": "2024-04-10T23:33:28.265237Z",
     "start_time": "2024-04-10T23:33:28.248896Z"
    }
   },
   "outputs": [
    {
     "data": {
      "text/plain": [
       "0    4\n",
       "1    0\n",
       "2    6\n",
       "3    2\n",
       "4    1\n",
       "5    6\n",
       "6    6\n",
       "7    3\n",
       "8    0\n",
       "9    3\n",
       "dtype: int32"
      ]
     },
     "execution_count": 53,
     "metadata": {},
     "output_type": "execute_result"
    }
   ],
   "source": [
    "s = pd.Series(np.random.randint(0,7,size=10))\n",
    "s"
   ]
  },
  {
   "cell_type": "code",
   "execution_count": 54,
   "id": "c0b71432",
   "metadata": {
    "ExecuteTime": {
     "end_time": "2024-04-10T23:33:28.280713Z",
     "start_time": "2024-04-10T23:33:28.265237Z"
    }
   },
   "outputs": [
    {
     "data": {
      "text/plain": [
       "6    3\n",
       "0    2\n",
       "3    2\n",
       "4    1\n",
       "2    1\n",
       "1    1\n",
       "Name: count, dtype: int64"
      ]
     },
     "execution_count": 54,
     "metadata": {},
     "output_type": "execute_result"
    }
   ],
   "source": [
    "s.value_counts()"
   ]
  },
  {
   "cell_type": "markdown",
   "id": "f127d809",
   "metadata": {},
   "source": [
    "# String Methods"
   ]
  },
  {
   "cell_type": "markdown",
   "id": "49029bac",
   "metadata": {},
   "source": [
    "Series is equipped with a set of string processing methods in hte str attribute that make it easy to operate on each element of the array, as in the code anippet below, Note that pattern-matching in str generally uses regular expressions by default (and in some cases always uses them), See more at Vectorized String methods"
   ]
  },
  {
   "cell_type": "code",
   "execution_count": 55,
   "id": "582fbf9a",
   "metadata": {
    "ExecuteTime": {
     "end_time": "2024-04-10T23:33:28.296830Z",
     "start_time": "2024-04-10T23:33:28.284880Z"
    }
   },
   "outputs": [],
   "source": [
    "s = pd.Series(['A','B','c','Aaba','baca',np.nan,'CABA','dog','Cat'])"
   ]
  },
  {
   "cell_type": "code",
   "execution_count": 56,
   "id": "934fd3b5",
   "metadata": {
    "ExecuteTime": {
     "end_time": "2024-04-10T23:33:28.313260Z",
     "start_time": "2024-04-10T23:33:28.296830Z"
    }
   },
   "outputs": [
    {
     "data": {
      "text/plain": [
       "0       a\n",
       "1       b\n",
       "2       c\n",
       "3    aaba\n",
       "4    baca\n",
       "5     NaN\n",
       "6    caba\n",
       "7     dog\n",
       "8     cat\n",
       "dtype: object"
      ]
     },
     "execution_count": 56,
     "metadata": {},
     "output_type": "execute_result"
    }
   ],
   "source": [
    "s.str.lower()"
   ]
  },
  {
   "cell_type": "markdown",
   "id": "ba1045e6",
   "metadata": {},
   "source": [
    "# Merge"
   ]
  },
  {
   "cell_type": "markdown",
   "id": "8431be53",
   "metadata": {},
   "source": [
    "Concat"
   ]
  },
  {
   "cell_type": "markdown",
   "id": "db7f353f",
   "metadata": {},
   "source": [
    "Pandas provides various facilities for easily combining togehter Series, DataFrame, and Panel objects with various kinds of set logic for the indexes and relational algebra functionality in the case of join/merge-type operations"
   ]
  },
  {
   "cell_type": "markdown",
   "id": "26445ee1",
   "metadata": {
    "ExecuteTime": {
     "end_time": "2024-04-10T15:39:46.245353Z",
     "start_time": "2024-04-10T15:39:46.234772Z"
    }
   },
   "source": [
    "Concatenating pandas objects together with concat()"
   ]
  },
  {
   "cell_type": "code",
   "execution_count": 57,
   "id": "ec897d05",
   "metadata": {
    "ExecuteTime": {
     "end_time": "2024-04-10T23:33:28.328544Z",
     "start_time": "2024-04-10T23:33:28.315792Z"
    }
   },
   "outputs": [
    {
     "data": {
      "text/html": [
       "<div>\n",
       "<style scoped>\n",
       "    .dataframe tbody tr th:only-of-type {\n",
       "        vertical-align: middle;\n",
       "    }\n",
       "\n",
       "    .dataframe tbody tr th {\n",
       "        vertical-align: top;\n",
       "    }\n",
       "\n",
       "    .dataframe thead th {\n",
       "        text-align: right;\n",
       "    }\n",
       "</style>\n",
       "<table border=\"1\" class=\"dataframe\">\n",
       "  <thead>\n",
       "    <tr style=\"text-align: right;\">\n",
       "      <th></th>\n",
       "      <th>0</th>\n",
       "      <th>1</th>\n",
       "      <th>2</th>\n",
       "      <th>3</th>\n",
       "    </tr>\n",
       "  </thead>\n",
       "  <tbody>\n",
       "    <tr>\n",
       "      <th>0</th>\n",
       "      <td>-0.718473</td>\n",
       "      <td>-0.834827</td>\n",
       "      <td>-0.699428</td>\n",
       "      <td>0.267549</td>\n",
       "    </tr>\n",
       "    <tr>\n",
       "      <th>1</th>\n",
       "      <td>-0.192896</td>\n",
       "      <td>-0.549914</td>\n",
       "      <td>-0.077873</td>\n",
       "      <td>0.502067</td>\n",
       "    </tr>\n",
       "    <tr>\n",
       "      <th>2</th>\n",
       "      <td>1.245412</td>\n",
       "      <td>-2.032834</td>\n",
       "      <td>1.238813</td>\n",
       "      <td>0.509112</td>\n",
       "    </tr>\n",
       "    <tr>\n",
       "      <th>3</th>\n",
       "      <td>-1.074383</td>\n",
       "      <td>0.336722</td>\n",
       "      <td>-0.502526</td>\n",
       "      <td>-0.091279</td>\n",
       "    </tr>\n",
       "    <tr>\n",
       "      <th>4</th>\n",
       "      <td>0.849546</td>\n",
       "      <td>-0.152252</td>\n",
       "      <td>0.040127</td>\n",
       "      <td>-0.957126</td>\n",
       "    </tr>\n",
       "    <tr>\n",
       "      <th>5</th>\n",
       "      <td>-0.173377</td>\n",
       "      <td>-1.448827</td>\n",
       "      <td>-0.260542</td>\n",
       "      <td>-0.183638</td>\n",
       "    </tr>\n",
       "    <tr>\n",
       "      <th>6</th>\n",
       "      <td>0.102399</td>\n",
       "      <td>-1.206697</td>\n",
       "      <td>0.294937</td>\n",
       "      <td>1.012043</td>\n",
       "    </tr>\n",
       "    <tr>\n",
       "      <th>7</th>\n",
       "      <td>0.221555</td>\n",
       "      <td>-0.206402</td>\n",
       "      <td>-1.386548</td>\n",
       "      <td>1.184797</td>\n",
       "    </tr>\n",
       "    <tr>\n",
       "      <th>8</th>\n",
       "      <td>2.220637</td>\n",
       "      <td>0.226641</td>\n",
       "      <td>1.603215</td>\n",
       "      <td>0.005320</td>\n",
       "    </tr>\n",
       "    <tr>\n",
       "      <th>9</th>\n",
       "      <td>0.923303</td>\n",
       "      <td>-2.015370</td>\n",
       "      <td>-1.571715</td>\n",
       "      <td>-1.818604</td>\n",
       "    </tr>\n",
       "  </tbody>\n",
       "</table>\n",
       "</div>"
      ],
      "text/plain": [
       "          0         1         2         3\n",
       "0 -0.718473 -0.834827 -0.699428  0.267549\n",
       "1 -0.192896 -0.549914 -0.077873  0.502067\n",
       "2  1.245412 -2.032834  1.238813  0.509112\n",
       "3 -1.074383  0.336722 -0.502526 -0.091279\n",
       "4  0.849546 -0.152252  0.040127 -0.957126\n",
       "5 -0.173377 -1.448827 -0.260542 -0.183638\n",
       "6  0.102399 -1.206697  0.294937  1.012043\n",
       "7  0.221555 -0.206402 -1.386548  1.184797\n",
       "8  2.220637  0.226641  1.603215  0.005320\n",
       "9  0.923303 -2.015370 -1.571715 -1.818604"
      ]
     },
     "execution_count": 57,
     "metadata": {},
     "output_type": "execute_result"
    }
   ],
   "source": [
    "df = pd.DataFrame(np.random.randn(10,4))\n",
    "df"
   ]
  },
  {
   "cell_type": "code",
   "execution_count": 58,
   "id": "446fdb39",
   "metadata": {
    "ExecuteTime": {
     "end_time": "2024-04-10T23:33:28.344991Z",
     "start_time": "2024-04-10T23:33:28.332503Z"
    }
   },
   "outputs": [
    {
     "data": {
      "text/plain": [
       "[          0         1         2         3\n",
       " 0 -0.718473 -0.834827 -0.699428  0.267549\n",
       " 1 -0.192896 -0.549914 -0.077873  0.502067\n",
       " 2  1.245412 -2.032834  1.238813  0.509112,\n",
       "           0         1         2         3\n",
       " 3 -1.074383  0.336722 -0.502526 -0.091279\n",
       " 4  0.849546 -0.152252  0.040127 -0.957126\n",
       " 5 -0.173377 -1.448827 -0.260542 -0.183638\n",
       " 6  0.102399 -1.206697  0.294937  1.012043,\n",
       "           0         1         2         3\n",
       " 7  0.221555 -0.206402 -1.386548  1.184797\n",
       " 8  2.220637  0.226641  1.603215  0.005320\n",
       " 9  0.923303 -2.015370 -1.571715 -1.818604]"
      ]
     },
     "execution_count": 58,
     "metadata": {},
     "output_type": "execute_result"
    }
   ],
   "source": [
    "# break into pieces \n",
    "pieces = [df[:3],df[3:7],df[7:]]\n",
    "pieces"
   ]
  },
  {
   "cell_type": "code",
   "execution_count": 59,
   "id": "049728ce",
   "metadata": {
    "ExecuteTime": {
     "end_time": "2024-04-10T23:33:28.360547Z",
     "start_time": "2024-04-10T23:33:28.347607Z"
    }
   },
   "outputs": [
    {
     "data": {
      "text/html": [
       "<div>\n",
       "<style scoped>\n",
       "    .dataframe tbody tr th:only-of-type {\n",
       "        vertical-align: middle;\n",
       "    }\n",
       "\n",
       "    .dataframe tbody tr th {\n",
       "        vertical-align: top;\n",
       "    }\n",
       "\n",
       "    .dataframe thead th {\n",
       "        text-align: right;\n",
       "    }\n",
       "</style>\n",
       "<table border=\"1\" class=\"dataframe\">\n",
       "  <thead>\n",
       "    <tr style=\"text-align: right;\">\n",
       "      <th></th>\n",
       "      <th>0</th>\n",
       "      <th>1</th>\n",
       "      <th>2</th>\n",
       "      <th>3</th>\n",
       "    </tr>\n",
       "  </thead>\n",
       "  <tbody>\n",
       "    <tr>\n",
       "      <th>0</th>\n",
       "      <td>-0.718473</td>\n",
       "      <td>-0.834827</td>\n",
       "      <td>-0.699428</td>\n",
       "      <td>0.267549</td>\n",
       "    </tr>\n",
       "    <tr>\n",
       "      <th>1</th>\n",
       "      <td>-0.192896</td>\n",
       "      <td>-0.549914</td>\n",
       "      <td>-0.077873</td>\n",
       "      <td>0.502067</td>\n",
       "    </tr>\n",
       "    <tr>\n",
       "      <th>2</th>\n",
       "      <td>1.245412</td>\n",
       "      <td>-2.032834</td>\n",
       "      <td>1.238813</td>\n",
       "      <td>0.509112</td>\n",
       "    </tr>\n",
       "    <tr>\n",
       "      <th>3</th>\n",
       "      <td>-1.074383</td>\n",
       "      <td>0.336722</td>\n",
       "      <td>-0.502526</td>\n",
       "      <td>-0.091279</td>\n",
       "    </tr>\n",
       "    <tr>\n",
       "      <th>4</th>\n",
       "      <td>0.849546</td>\n",
       "      <td>-0.152252</td>\n",
       "      <td>0.040127</td>\n",
       "      <td>-0.957126</td>\n",
       "    </tr>\n",
       "    <tr>\n",
       "      <th>5</th>\n",
       "      <td>-0.173377</td>\n",
       "      <td>-1.448827</td>\n",
       "      <td>-0.260542</td>\n",
       "      <td>-0.183638</td>\n",
       "    </tr>\n",
       "    <tr>\n",
       "      <th>6</th>\n",
       "      <td>0.102399</td>\n",
       "      <td>-1.206697</td>\n",
       "      <td>0.294937</td>\n",
       "      <td>1.012043</td>\n",
       "    </tr>\n",
       "    <tr>\n",
       "      <th>7</th>\n",
       "      <td>0.221555</td>\n",
       "      <td>-0.206402</td>\n",
       "      <td>-1.386548</td>\n",
       "      <td>1.184797</td>\n",
       "    </tr>\n",
       "    <tr>\n",
       "      <th>8</th>\n",
       "      <td>2.220637</td>\n",
       "      <td>0.226641</td>\n",
       "      <td>1.603215</td>\n",
       "      <td>0.005320</td>\n",
       "    </tr>\n",
       "    <tr>\n",
       "      <th>9</th>\n",
       "      <td>0.923303</td>\n",
       "      <td>-2.015370</td>\n",
       "      <td>-1.571715</td>\n",
       "      <td>-1.818604</td>\n",
       "    </tr>\n",
       "  </tbody>\n",
       "</table>\n",
       "</div>"
      ],
      "text/plain": [
       "          0         1         2         3\n",
       "0 -0.718473 -0.834827 -0.699428  0.267549\n",
       "1 -0.192896 -0.549914 -0.077873  0.502067\n",
       "2  1.245412 -2.032834  1.238813  0.509112\n",
       "3 -1.074383  0.336722 -0.502526 -0.091279\n",
       "4  0.849546 -0.152252  0.040127 -0.957126\n",
       "5 -0.173377 -1.448827 -0.260542 -0.183638\n",
       "6  0.102399 -1.206697  0.294937  1.012043\n",
       "7  0.221555 -0.206402 -1.386548  1.184797\n",
       "8  2.220637  0.226641  1.603215  0.005320\n",
       "9  0.923303 -2.015370 -1.571715 -1.818604"
      ]
     },
     "execution_count": 59,
     "metadata": {},
     "output_type": "execute_result"
    }
   ],
   "source": [
    "pd.concat(pieces)"
   ]
  },
  {
   "cell_type": "markdown",
   "id": "a3b7b97b",
   "metadata": {},
   "source": [
    "# Join"
   ]
  },
  {
   "cell_type": "markdown",
   "id": "f9884a5b",
   "metadata": {
    "ExecuteTime": {
     "end_time": "2024-04-10T15:42:49.665132Z",
     "start_time": "2024-04-10T15:42:49.647144Z"
    }
   },
   "source": [
    "SQL style merges . See the Database style joining "
   ]
  },
  {
   "cell_type": "code",
   "execution_count": 60,
   "id": "9b1a79c4",
   "metadata": {
    "ExecuteTime": {
     "end_time": "2024-04-10T23:33:28.376624Z",
     "start_time": "2024-04-10T23:33:28.364284Z"
    }
   },
   "outputs": [],
   "source": [
    "left = pd.DataFrame({'key':['foo','foo'],'lval':[1,2]})\n",
    "right = pd.DataFrame({'key':['foo','foo'],'rval':[4,5]})"
   ]
  },
  {
   "cell_type": "code",
   "execution_count": 61,
   "id": "d8edb393",
   "metadata": {
    "ExecuteTime": {
     "end_time": "2024-04-10T23:33:28.392794Z",
     "start_time": "2024-04-10T23:33:28.377727Z"
    }
   },
   "outputs": [
    {
     "data": {
      "text/html": [
       "<div>\n",
       "<style scoped>\n",
       "    .dataframe tbody tr th:only-of-type {\n",
       "        vertical-align: middle;\n",
       "    }\n",
       "\n",
       "    .dataframe tbody tr th {\n",
       "        vertical-align: top;\n",
       "    }\n",
       "\n",
       "    .dataframe thead th {\n",
       "        text-align: right;\n",
       "    }\n",
       "</style>\n",
       "<table border=\"1\" class=\"dataframe\">\n",
       "  <thead>\n",
       "    <tr style=\"text-align: right;\">\n",
       "      <th></th>\n",
       "      <th>key</th>\n",
       "      <th>lval</th>\n",
       "    </tr>\n",
       "  </thead>\n",
       "  <tbody>\n",
       "    <tr>\n",
       "      <th>0</th>\n",
       "      <td>foo</td>\n",
       "      <td>1</td>\n",
       "    </tr>\n",
       "    <tr>\n",
       "      <th>1</th>\n",
       "      <td>foo</td>\n",
       "      <td>2</td>\n",
       "    </tr>\n",
       "  </tbody>\n",
       "</table>\n",
       "</div>"
      ],
      "text/plain": [
       "   key  lval\n",
       "0  foo     1\n",
       "1  foo     2"
      ]
     },
     "execution_count": 61,
     "metadata": {},
     "output_type": "execute_result"
    }
   ],
   "source": [
    "left"
   ]
  },
  {
   "cell_type": "code",
   "execution_count": 62,
   "id": "635c684d",
   "metadata": {
    "ExecuteTime": {
     "end_time": "2024-04-10T23:33:28.408950Z",
     "start_time": "2024-04-10T23:33:28.395745Z"
    }
   },
   "outputs": [
    {
     "data": {
      "text/html": [
       "<div>\n",
       "<style scoped>\n",
       "    .dataframe tbody tr th:only-of-type {\n",
       "        vertical-align: middle;\n",
       "    }\n",
       "\n",
       "    .dataframe tbody tr th {\n",
       "        vertical-align: top;\n",
       "    }\n",
       "\n",
       "    .dataframe thead th {\n",
       "        text-align: right;\n",
       "    }\n",
       "</style>\n",
       "<table border=\"1\" class=\"dataframe\">\n",
       "  <thead>\n",
       "    <tr style=\"text-align: right;\">\n",
       "      <th></th>\n",
       "      <th>key</th>\n",
       "      <th>rval</th>\n",
       "    </tr>\n",
       "  </thead>\n",
       "  <tbody>\n",
       "    <tr>\n",
       "      <th>0</th>\n",
       "      <td>foo</td>\n",
       "      <td>4</td>\n",
       "    </tr>\n",
       "    <tr>\n",
       "      <th>1</th>\n",
       "      <td>foo</td>\n",
       "      <td>5</td>\n",
       "    </tr>\n",
       "  </tbody>\n",
       "</table>\n",
       "</div>"
      ],
      "text/plain": [
       "   key  rval\n",
       "0  foo     4\n",
       "1  foo     5"
      ]
     },
     "execution_count": 62,
     "metadata": {},
     "output_type": "execute_result"
    }
   ],
   "source": [
    "right"
   ]
  },
  {
   "cell_type": "code",
   "execution_count": 63,
   "id": "b425f6e6",
   "metadata": {
    "ExecuteTime": {
     "end_time": "2024-04-10T23:33:28.424998Z",
     "start_time": "2024-04-10T23:33:28.408950Z"
    }
   },
   "outputs": [
    {
     "data": {
      "text/html": [
       "<div>\n",
       "<style scoped>\n",
       "    .dataframe tbody tr th:only-of-type {\n",
       "        vertical-align: middle;\n",
       "    }\n",
       "\n",
       "    .dataframe tbody tr th {\n",
       "        vertical-align: top;\n",
       "    }\n",
       "\n",
       "    .dataframe thead th {\n",
       "        text-align: right;\n",
       "    }\n",
       "</style>\n",
       "<table border=\"1\" class=\"dataframe\">\n",
       "  <thead>\n",
       "    <tr style=\"text-align: right;\">\n",
       "      <th></th>\n",
       "      <th>key</th>\n",
       "      <th>lval</th>\n",
       "      <th>rval</th>\n",
       "    </tr>\n",
       "  </thead>\n",
       "  <tbody>\n",
       "    <tr>\n",
       "      <th>0</th>\n",
       "      <td>foo</td>\n",
       "      <td>1</td>\n",
       "      <td>4</td>\n",
       "    </tr>\n",
       "    <tr>\n",
       "      <th>1</th>\n",
       "      <td>foo</td>\n",
       "      <td>1</td>\n",
       "      <td>5</td>\n",
       "    </tr>\n",
       "    <tr>\n",
       "      <th>2</th>\n",
       "      <td>foo</td>\n",
       "      <td>2</td>\n",
       "      <td>4</td>\n",
       "    </tr>\n",
       "    <tr>\n",
       "      <th>3</th>\n",
       "      <td>foo</td>\n",
       "      <td>2</td>\n",
       "      <td>5</td>\n",
       "    </tr>\n",
       "  </tbody>\n",
       "</table>\n",
       "</div>"
      ],
      "text/plain": [
       "   key  lval  rval\n",
       "0  foo     1     4\n",
       "1  foo     1     5\n",
       "2  foo     2     4\n",
       "3  foo     2     5"
      ]
     },
     "execution_count": 63,
     "metadata": {},
     "output_type": "execute_result"
    }
   ],
   "source": [
    "pd.merge(left,right,on='key')"
   ]
  },
  {
   "cell_type": "markdown",
   "id": "e1116219",
   "metadata": {},
   "source": [
    "# Append"
   ]
  },
  {
   "cell_type": "markdown",
   "id": "b8210eba",
   "metadata": {},
   "source": [
    "Append rows to a DataFrame. See the Appending"
   ]
  },
  {
   "cell_type": "code",
   "execution_count": 64,
   "id": "478cf5a6",
   "metadata": {
    "ExecuteTime": {
     "end_time": "2024-04-10T23:33:28.440722Z",
     "start_time": "2024-04-10T23:33:28.427396Z"
    }
   },
   "outputs": [
    {
     "data": {
      "text/html": [
       "<div>\n",
       "<style scoped>\n",
       "    .dataframe tbody tr th:only-of-type {\n",
       "        vertical-align: middle;\n",
       "    }\n",
       "\n",
       "    .dataframe tbody tr th {\n",
       "        vertical-align: top;\n",
       "    }\n",
       "\n",
       "    .dataframe thead th {\n",
       "        text-align: right;\n",
       "    }\n",
       "</style>\n",
       "<table border=\"1\" class=\"dataframe\">\n",
       "  <thead>\n",
       "    <tr style=\"text-align: right;\">\n",
       "      <th></th>\n",
       "      <th>A</th>\n",
       "      <th>B</th>\n",
       "      <th>C</th>\n",
       "      <th>D</th>\n",
       "    </tr>\n",
       "  </thead>\n",
       "  <tbody>\n",
       "    <tr>\n",
       "      <th>0</th>\n",
       "      <td>-0.207225</td>\n",
       "      <td>-0.294048</td>\n",
       "      <td>-1.396491</td>\n",
       "      <td>0.256627</td>\n",
       "    </tr>\n",
       "    <tr>\n",
       "      <th>1</th>\n",
       "      <td>-1.083171</td>\n",
       "      <td>0.022763</td>\n",
       "      <td>0.204700</td>\n",
       "      <td>-0.197510</td>\n",
       "    </tr>\n",
       "    <tr>\n",
       "      <th>2</th>\n",
       "      <td>-2.716546</td>\n",
       "      <td>-0.830770</td>\n",
       "      <td>-0.877625</td>\n",
       "      <td>1.284186</td>\n",
       "    </tr>\n",
       "    <tr>\n",
       "      <th>3</th>\n",
       "      <td>-1.948513</td>\n",
       "      <td>0.033579</td>\n",
       "      <td>-0.513277</td>\n",
       "      <td>0.378182</td>\n",
       "    </tr>\n",
       "    <tr>\n",
       "      <th>4</th>\n",
       "      <td>0.029322</td>\n",
       "      <td>0.035155</td>\n",
       "      <td>-0.343794</td>\n",
       "      <td>-0.415806</td>\n",
       "    </tr>\n",
       "    <tr>\n",
       "      <th>5</th>\n",
       "      <td>-0.816284</td>\n",
       "      <td>-0.558762</td>\n",
       "      <td>0.280566</td>\n",
       "      <td>-1.458814</td>\n",
       "    </tr>\n",
       "    <tr>\n",
       "      <th>6</th>\n",
       "      <td>0.689922</td>\n",
       "      <td>0.344904</td>\n",
       "      <td>-1.616330</td>\n",
       "      <td>0.698393</td>\n",
       "    </tr>\n",
       "    <tr>\n",
       "      <th>7</th>\n",
       "      <td>0.394678</td>\n",
       "      <td>-1.009389</td>\n",
       "      <td>0.675511</td>\n",
       "      <td>0.566197</td>\n",
       "    </tr>\n",
       "  </tbody>\n",
       "</table>\n",
       "</div>"
      ],
      "text/plain": [
       "          A         B         C         D\n",
       "0 -0.207225 -0.294048 -1.396491  0.256627\n",
       "1 -1.083171  0.022763  0.204700 -0.197510\n",
       "2 -2.716546 -0.830770 -0.877625  1.284186\n",
       "3 -1.948513  0.033579 -0.513277  0.378182\n",
       "4  0.029322  0.035155 -0.343794 -0.415806\n",
       "5 -0.816284 -0.558762  0.280566 -1.458814\n",
       "6  0.689922  0.344904 -1.616330  0.698393\n",
       "7  0.394678 -1.009389  0.675511  0.566197"
      ]
     },
     "execution_count": 64,
     "metadata": {},
     "output_type": "execute_result"
    }
   ],
   "source": [
    "df = pd.DataFrame(np.random.randn(8,4),columns=['A','B','C','D'])\n",
    "df"
   ]
  },
  {
   "cell_type": "code",
   "execution_count": 65,
   "id": "ab4f006d",
   "metadata": {
    "ExecuteTime": {
     "end_time": "2024-04-10T23:33:28.456747Z",
     "start_time": "2024-04-10T23:33:28.441809Z"
    }
   },
   "outputs": [],
   "source": [
    "s = df.iloc[3]"
   ]
  },
  {
   "cell_type": "markdown",
   "id": "9f845458",
   "metadata": {},
   "source": [
    "# Grouping\n"
   ]
  },
  {
   "cell_type": "markdown",
   "id": "f5742e4b",
   "metadata": {},
   "source": [
    "By \"group by\" we are referring to a process involving one or more of the following steps\n",
    "\n",
    ":- Splitting the data into groups based on some criteria\n",
    ":- Applying a function to each group independently\n",
    ":- Combining the results into a data strucute"
   ]
  },
  {
   "cell_type": "code",
   "execution_count": 66,
   "id": "4bd23877",
   "metadata": {
    "ExecuteTime": {
     "end_time": "2024-04-10T23:33:28.472827Z",
     "start_time": "2024-04-10T23:33:28.456747Z"
    }
   },
   "outputs": [
    {
     "data": {
      "text/html": [
       "<div>\n",
       "<style scoped>\n",
       "    .dataframe tbody tr th:only-of-type {\n",
       "        vertical-align: middle;\n",
       "    }\n",
       "\n",
       "    .dataframe tbody tr th {\n",
       "        vertical-align: top;\n",
       "    }\n",
       "\n",
       "    .dataframe thead th {\n",
       "        text-align: right;\n",
       "    }\n",
       "</style>\n",
       "<table border=\"1\" class=\"dataframe\">\n",
       "  <thead>\n",
       "    <tr style=\"text-align: right;\">\n",
       "      <th></th>\n",
       "      <th>A</th>\n",
       "      <th>B</th>\n",
       "      <th>C</th>\n",
       "      <th>D</th>\n",
       "    </tr>\n",
       "  </thead>\n",
       "  <tbody>\n",
       "    <tr>\n",
       "      <th>0</th>\n",
       "      <td>foo</td>\n",
       "      <td>one</td>\n",
       "      <td>1.010582</td>\n",
       "      <td>-0.543183</td>\n",
       "    </tr>\n",
       "    <tr>\n",
       "      <th>1</th>\n",
       "      <td>bar</td>\n",
       "      <td>one</td>\n",
       "      <td>1.101927</td>\n",
       "      <td>0.117635</td>\n",
       "    </tr>\n",
       "    <tr>\n",
       "      <th>2</th>\n",
       "      <td>foo</td>\n",
       "      <td>two</td>\n",
       "      <td>0.626600</td>\n",
       "      <td>-1.892469</td>\n",
       "    </tr>\n",
       "    <tr>\n",
       "      <th>3</th>\n",
       "      <td>bar</td>\n",
       "      <td>three</td>\n",
       "      <td>-2.170167</td>\n",
       "      <td>-0.154532</td>\n",
       "    </tr>\n",
       "    <tr>\n",
       "      <th>4</th>\n",
       "      <td>foo</td>\n",
       "      <td>two</td>\n",
       "      <td>2.145289</td>\n",
       "      <td>-0.543363</td>\n",
       "    </tr>\n",
       "    <tr>\n",
       "      <th>5</th>\n",
       "      <td>bar</td>\n",
       "      <td>two</td>\n",
       "      <td>0.432635</td>\n",
       "      <td>1.608251</td>\n",
       "    </tr>\n",
       "    <tr>\n",
       "      <th>6</th>\n",
       "      <td>foo</td>\n",
       "      <td>one</td>\n",
       "      <td>0.276708</td>\n",
       "      <td>-0.191054</td>\n",
       "    </tr>\n",
       "    <tr>\n",
       "      <th>7</th>\n",
       "      <td>bar</td>\n",
       "      <td>three</td>\n",
       "      <td>0.071812</td>\n",
       "      <td>2.026115</td>\n",
       "    </tr>\n",
       "  </tbody>\n",
       "</table>\n",
       "</div>"
      ],
      "text/plain": [
       "     A      B         C         D\n",
       "0  foo    one  1.010582 -0.543183\n",
       "1  bar    one  1.101927  0.117635\n",
       "2  foo    two  0.626600 -1.892469\n",
       "3  bar  three -2.170167 -0.154532\n",
       "4  foo    two  2.145289 -0.543363\n",
       "5  bar    two  0.432635  1.608251\n",
       "6  foo    one  0.276708 -0.191054\n",
       "7  bar  three  0.071812  2.026115"
      ]
     },
     "execution_count": 66,
     "metadata": {},
     "output_type": "execute_result"
    }
   ],
   "source": [
    "df = pd.DataFrame({'A':['foo', 'bar','foo','bar',\n",
    "                       'foo','bar','foo','bar'],\n",
    "                  'B':['one','one','two','three',\n",
    "                      'two','two','one','three'],\n",
    "                   'C':np.random.randn(8),\n",
    "                   'D':np.random.randn(8)})\n",
    "df"
   ]
  },
  {
   "cell_type": "markdown",
   "id": "cf9e4885",
   "metadata": {},
   "source": [
    "Groupping and then applying function sum to the resulting groups"
   ]
  },
  {
   "cell_type": "code",
   "execution_count": 67,
   "id": "10647909",
   "metadata": {
    "ExecuteTime": {
     "end_time": "2024-04-10T23:33:28.488927Z",
     "start_time": "2024-04-10T23:33:28.474834Z"
    }
   },
   "outputs": [
    {
     "data": {
      "text/html": [
       "<div>\n",
       "<style scoped>\n",
       "    .dataframe tbody tr th:only-of-type {\n",
       "        vertical-align: middle;\n",
       "    }\n",
       "\n",
       "    .dataframe tbody tr th {\n",
       "        vertical-align: top;\n",
       "    }\n",
       "\n",
       "    .dataframe thead th {\n",
       "        text-align: right;\n",
       "    }\n",
       "</style>\n",
       "<table border=\"1\" class=\"dataframe\">\n",
       "  <thead>\n",
       "    <tr style=\"text-align: right;\">\n",
       "      <th></th>\n",
       "      <th>B</th>\n",
       "      <th>C</th>\n",
       "      <th>D</th>\n",
       "    </tr>\n",
       "    <tr>\n",
       "      <th>A</th>\n",
       "      <th></th>\n",
       "      <th></th>\n",
       "      <th></th>\n",
       "    </tr>\n",
       "  </thead>\n",
       "  <tbody>\n",
       "    <tr>\n",
       "      <th>bar</th>\n",
       "      <td>onethreetwothree</td>\n",
       "      <td>-0.563793</td>\n",
       "      <td>3.597469</td>\n",
       "    </tr>\n",
       "    <tr>\n",
       "      <th>foo</th>\n",
       "      <td>onetwotwoone</td>\n",
       "      <td>4.059179</td>\n",
       "      <td>-3.170069</td>\n",
       "    </tr>\n",
       "  </tbody>\n",
       "</table>\n",
       "</div>"
      ],
      "text/plain": [
       "                    B         C         D\n",
       "A                                        \n",
       "bar  onethreetwothree -0.563793  3.597469\n",
       "foo      onetwotwoone  4.059179 -3.170069"
      ]
     },
     "execution_count": 67,
     "metadata": {},
     "output_type": "execute_result"
    }
   ],
   "source": [
    "df.groupby(['A']).sum()"
   ]
  },
  {
   "cell_type": "markdown",
   "id": "d5b89ce1",
   "metadata": {},
   "source": [
    " Groupping by multiple columns forms a hierachical index, which we then appply the function"
   ]
  },
  {
   "cell_type": "code",
   "execution_count": 68,
   "id": "da314178",
   "metadata": {
    "ExecuteTime": {
     "end_time": "2024-04-10T23:33:28.504785Z",
     "start_time": "2024-04-10T23:33:28.490068Z"
    }
   },
   "outputs": [
    {
     "data": {
      "text/html": [
       "<div>\n",
       "<style scoped>\n",
       "    .dataframe tbody tr th:only-of-type {\n",
       "        vertical-align: middle;\n",
       "    }\n",
       "\n",
       "    .dataframe tbody tr th {\n",
       "        vertical-align: top;\n",
       "    }\n",
       "\n",
       "    .dataframe thead th {\n",
       "        text-align: right;\n",
       "    }\n",
       "</style>\n",
       "<table border=\"1\" class=\"dataframe\">\n",
       "  <thead>\n",
       "    <tr style=\"text-align: right;\">\n",
       "      <th></th>\n",
       "      <th></th>\n",
       "      <th>C</th>\n",
       "      <th>D</th>\n",
       "    </tr>\n",
       "    <tr>\n",
       "      <th>A</th>\n",
       "      <th>B</th>\n",
       "      <th></th>\n",
       "      <th></th>\n",
       "    </tr>\n",
       "  </thead>\n",
       "  <tbody>\n",
       "    <tr>\n",
       "      <th rowspan=\"3\" valign=\"top\">bar</th>\n",
       "      <th>one</th>\n",
       "      <td>1.101927</td>\n",
       "      <td>0.117635</td>\n",
       "    </tr>\n",
       "    <tr>\n",
       "      <th>three</th>\n",
       "      <td>-2.098355</td>\n",
       "      <td>1.871583</td>\n",
       "    </tr>\n",
       "    <tr>\n",
       "      <th>two</th>\n",
       "      <td>0.432635</td>\n",
       "      <td>1.608251</td>\n",
       "    </tr>\n",
       "    <tr>\n",
       "      <th rowspan=\"2\" valign=\"top\">foo</th>\n",
       "      <th>one</th>\n",
       "      <td>1.287290</td>\n",
       "      <td>-0.734237</td>\n",
       "    </tr>\n",
       "    <tr>\n",
       "      <th>two</th>\n",
       "      <td>2.771889</td>\n",
       "      <td>-2.435832</td>\n",
       "    </tr>\n",
       "  </tbody>\n",
       "</table>\n",
       "</div>"
      ],
      "text/plain": [
       "                  C         D\n",
       "A   B                        \n",
       "bar one    1.101927  0.117635\n",
       "    three -2.098355  1.871583\n",
       "    two    0.432635  1.608251\n",
       "foo one    1.287290 -0.734237\n",
       "    two    2.771889 -2.435832"
      ]
     },
     "execution_count": 68,
     "metadata": {},
     "output_type": "execute_result"
    }
   ],
   "source": [
    "df.groupby(['A','B']).sum()"
   ]
  },
  {
   "cell_type": "markdown",
   "id": "441f34e4",
   "metadata": {},
   "source": [
    "# Reshaping"
   ]
  },
  {
   "cell_type": "markdown",
   "id": "3c608d92",
   "metadata": {},
   "source": [
    "See the sections on Hierarchical Indexing and Reshaping"
   ]
  },
  {
   "cell_type": "code",
   "execution_count": 75,
   "id": "df83e565",
   "metadata": {
    "ExecuteTime": {
     "end_time": "2024-04-10T23:40:12.315064Z",
     "start_time": "2024-04-10T23:40:12.284867Z"
    }
   },
   "outputs": [
    {
     "data": {
      "text/html": [
       "<div>\n",
       "<style scoped>\n",
       "    .dataframe tbody tr th:only-of-type {\n",
       "        vertical-align: middle;\n",
       "    }\n",
       "\n",
       "    .dataframe tbody tr th {\n",
       "        vertical-align: top;\n",
       "    }\n",
       "\n",
       "    .dataframe thead th {\n",
       "        text-align: right;\n",
       "    }\n",
       "</style>\n",
       "<table border=\"1\" class=\"dataframe\">\n",
       "  <thead>\n",
       "    <tr style=\"text-align: right;\">\n",
       "      <th></th>\n",
       "      <th></th>\n",
       "      <th>A</th>\n",
       "      <th>B</th>\n",
       "    </tr>\n",
       "    <tr>\n",
       "      <th>first</th>\n",
       "      <th>second</th>\n",
       "      <th></th>\n",
       "      <th></th>\n",
       "    </tr>\n",
       "  </thead>\n",
       "  <tbody>\n",
       "    <tr>\n",
       "      <th rowspan=\"2\" valign=\"top\">bar</th>\n",
       "      <th>one</th>\n",
       "      <td>0.228233</td>\n",
       "      <td>1.446907</td>\n",
       "    </tr>\n",
       "    <tr>\n",
       "      <th>two</th>\n",
       "      <td>0.493895</td>\n",
       "      <td>0.223078</td>\n",
       "    </tr>\n",
       "    <tr>\n",
       "      <th rowspan=\"2\" valign=\"top\">baz</th>\n",
       "      <th>one</th>\n",
       "      <td>0.324617</td>\n",
       "      <td>-0.058795</td>\n",
       "    </tr>\n",
       "    <tr>\n",
       "      <th>two</th>\n",
       "      <td>-1.031914</td>\n",
       "      <td>0.693881</td>\n",
       "    </tr>\n",
       "  </tbody>\n",
       "</table>\n",
       "</div>"
      ],
      "text/plain": [
       "                     A         B\n",
       "first second                    \n",
       "bar   one     0.228233  1.446907\n",
       "      two     0.493895  0.223078\n",
       "baz   one     0.324617 -0.058795\n",
       "      two    -1.031914  0.693881"
      ]
     },
     "execution_count": 75,
     "metadata": {},
     "output_type": "execute_result"
    }
   ],
   "source": [
    "tuples = list(zip(*[['bar','bar','baz','baz',\n",
    "                     'foo','foo','qux','qux'],\n",
    "                    ['one','two','one','two',\n",
    "                     'one','two','one','two']]))\n",
    "index = pd.MultiIndex.from_tuples(tuples, names=['first','second'])\n",
    "df = pd.DataFrame(np.random.randn(8,2),index=index,columns=['A','B'])\n",
    "df2=df[:4]\n",
    "df2"
   ]
  },
  {
   "cell_type": "markdown",
   "id": "30af7b86",
   "metadata": {},
   "source": [
    "The stack() method \"compresses\" a level in the DataFrame's columns"
   ]
  },
  {
   "cell_type": "code",
   "execution_count": 76,
   "id": "2f05af59",
   "metadata": {
    "ExecuteTime": {
     "end_time": "2024-04-10T23:41:16.119900Z",
     "start_time": "2024-04-10T23:41:16.089703Z"
    }
   },
   "outputs": [
    {
     "data": {
      "text/plain": [
       "first  second   \n",
       "bar    one     A    0.228233\n",
       "               B    1.446907\n",
       "       two     A    0.493895\n",
       "               B    0.223078\n",
       "baz    one     A    0.324617\n",
       "               B   -0.058795\n",
       "       two     A   -1.031914\n",
       "               B    0.693881\n",
       "dtype: float64"
      ]
     },
     "execution_count": 76,
     "metadata": {},
     "output_type": "execute_result"
    }
   ],
   "source": [
    "stacked = df2.stack()\n",
    "stacked"
   ]
  },
  {
   "cell_type": "markdown",
   "id": "eaf56354",
   "metadata": {},
   "source": [
    "with a \"stacked\" DataFrame Series ( having a multiIndex as the index), the inverse operation of stack() is unstack(), which by default unstacks the last level\n"
   ]
  },
  {
   "cell_type": "code",
   "execution_count": 77,
   "id": "6763b94a",
   "metadata": {
    "ExecuteTime": {
     "end_time": "2024-04-10T23:42:50.515104Z",
     "start_time": "2024-04-10T23:42:50.498953Z"
    }
   },
   "outputs": [
    {
     "data": {
      "text/html": [
       "<div>\n",
       "<style scoped>\n",
       "    .dataframe tbody tr th:only-of-type {\n",
       "        vertical-align: middle;\n",
       "    }\n",
       "\n",
       "    .dataframe tbody tr th {\n",
       "        vertical-align: top;\n",
       "    }\n",
       "\n",
       "    .dataframe thead th {\n",
       "        text-align: right;\n",
       "    }\n",
       "</style>\n",
       "<table border=\"1\" class=\"dataframe\">\n",
       "  <thead>\n",
       "    <tr style=\"text-align: right;\">\n",
       "      <th></th>\n",
       "      <th></th>\n",
       "      <th>A</th>\n",
       "      <th>B</th>\n",
       "    </tr>\n",
       "    <tr>\n",
       "      <th>first</th>\n",
       "      <th>second</th>\n",
       "      <th></th>\n",
       "      <th></th>\n",
       "    </tr>\n",
       "  </thead>\n",
       "  <tbody>\n",
       "    <tr>\n",
       "      <th rowspan=\"2\" valign=\"top\">bar</th>\n",
       "      <th>one</th>\n",
       "      <td>0.228233</td>\n",
       "      <td>1.446907</td>\n",
       "    </tr>\n",
       "    <tr>\n",
       "      <th>two</th>\n",
       "      <td>0.493895</td>\n",
       "      <td>0.223078</td>\n",
       "    </tr>\n",
       "    <tr>\n",
       "      <th rowspan=\"2\" valign=\"top\">baz</th>\n",
       "      <th>one</th>\n",
       "      <td>0.324617</td>\n",
       "      <td>-0.058795</td>\n",
       "    </tr>\n",
       "    <tr>\n",
       "      <th>two</th>\n",
       "      <td>-1.031914</td>\n",
       "      <td>0.693881</td>\n",
       "    </tr>\n",
       "  </tbody>\n",
       "</table>\n",
       "</div>"
      ],
      "text/plain": [
       "                     A         B\n",
       "first second                    \n",
       "bar   one     0.228233  1.446907\n",
       "      two     0.493895  0.223078\n",
       "baz   one     0.324617 -0.058795\n",
       "      two    -1.031914  0.693881"
      ]
     },
     "execution_count": 77,
     "metadata": {},
     "output_type": "execute_result"
    }
   ],
   "source": [
    "stacked.unstack()"
   ]
  },
  {
   "cell_type": "code",
   "execution_count": 78,
   "id": "63d3b2aa",
   "metadata": {
    "ExecuteTime": {
     "end_time": "2024-04-10T23:43:05.254706Z",
     "start_time": "2024-04-10T23:43:05.238986Z"
    }
   },
   "outputs": [
    {
     "data": {
      "text/html": [
       "<div>\n",
       "<style scoped>\n",
       "    .dataframe tbody tr th:only-of-type {\n",
       "        vertical-align: middle;\n",
       "    }\n",
       "\n",
       "    .dataframe tbody tr th {\n",
       "        vertical-align: top;\n",
       "    }\n",
       "\n",
       "    .dataframe thead th {\n",
       "        text-align: right;\n",
       "    }\n",
       "</style>\n",
       "<table border=\"1\" class=\"dataframe\">\n",
       "  <thead>\n",
       "    <tr style=\"text-align: right;\">\n",
       "      <th></th>\n",
       "      <th>second</th>\n",
       "      <th>one</th>\n",
       "      <th>two</th>\n",
       "    </tr>\n",
       "    <tr>\n",
       "      <th>first</th>\n",
       "      <th></th>\n",
       "      <th></th>\n",
       "      <th></th>\n",
       "    </tr>\n",
       "  </thead>\n",
       "  <tbody>\n",
       "    <tr>\n",
       "      <th rowspan=\"2\" valign=\"top\">bar</th>\n",
       "      <th>A</th>\n",
       "      <td>0.228233</td>\n",
       "      <td>0.493895</td>\n",
       "    </tr>\n",
       "    <tr>\n",
       "      <th>B</th>\n",
       "      <td>1.446907</td>\n",
       "      <td>0.223078</td>\n",
       "    </tr>\n",
       "    <tr>\n",
       "      <th rowspan=\"2\" valign=\"top\">baz</th>\n",
       "      <th>A</th>\n",
       "      <td>0.324617</td>\n",
       "      <td>-1.031914</td>\n",
       "    </tr>\n",
       "    <tr>\n",
       "      <th>B</th>\n",
       "      <td>-0.058795</td>\n",
       "      <td>0.693881</td>\n",
       "    </tr>\n",
       "  </tbody>\n",
       "</table>\n",
       "</div>"
      ],
      "text/plain": [
       "second        one       two\n",
       "first                      \n",
       "bar   A  0.228233  0.493895\n",
       "      B  1.446907  0.223078\n",
       "baz   A  0.324617 -1.031914\n",
       "      B -0.058795  0.693881"
      ]
     },
     "execution_count": 78,
     "metadata": {},
     "output_type": "execute_result"
    }
   ],
   "source": [
    "stacked.unstack(1)"
   ]
  },
  {
   "cell_type": "code",
   "execution_count": 79,
   "id": "cdf5a2d9",
   "metadata": {
    "ExecuteTime": {
     "end_time": "2024-04-10T23:43:25.469690Z",
     "start_time": "2024-04-10T23:43:25.459887Z"
    }
   },
   "outputs": [
    {
     "data": {
      "text/html": [
       "<div>\n",
       "<style scoped>\n",
       "    .dataframe tbody tr th:only-of-type {\n",
       "        vertical-align: middle;\n",
       "    }\n",
       "\n",
       "    .dataframe tbody tr th {\n",
       "        vertical-align: top;\n",
       "    }\n",
       "\n",
       "    .dataframe thead th {\n",
       "        text-align: right;\n",
       "    }\n",
       "</style>\n",
       "<table border=\"1\" class=\"dataframe\">\n",
       "  <thead>\n",
       "    <tr style=\"text-align: right;\">\n",
       "      <th></th>\n",
       "      <th>first</th>\n",
       "      <th>bar</th>\n",
       "      <th>baz</th>\n",
       "    </tr>\n",
       "    <tr>\n",
       "      <th>second</th>\n",
       "      <th></th>\n",
       "      <th></th>\n",
       "      <th></th>\n",
       "    </tr>\n",
       "  </thead>\n",
       "  <tbody>\n",
       "    <tr>\n",
       "      <th rowspan=\"2\" valign=\"top\">one</th>\n",
       "      <th>A</th>\n",
       "      <td>0.228233</td>\n",
       "      <td>0.324617</td>\n",
       "    </tr>\n",
       "    <tr>\n",
       "      <th>B</th>\n",
       "      <td>1.446907</td>\n",
       "      <td>-0.058795</td>\n",
       "    </tr>\n",
       "    <tr>\n",
       "      <th rowspan=\"2\" valign=\"top\">two</th>\n",
       "      <th>A</th>\n",
       "      <td>0.493895</td>\n",
       "      <td>-1.031914</td>\n",
       "    </tr>\n",
       "    <tr>\n",
       "      <th>B</th>\n",
       "      <td>0.223078</td>\n",
       "      <td>0.693881</td>\n",
       "    </tr>\n",
       "  </tbody>\n",
       "</table>\n",
       "</div>"
      ],
      "text/plain": [
       "first          bar       baz\n",
       "second                      \n",
       "one    A  0.228233  0.324617\n",
       "       B  1.446907 -0.058795\n",
       "two    A  0.493895 -1.031914\n",
       "       B  0.223078  0.693881"
      ]
     },
     "execution_count": 79,
     "metadata": {},
     "output_type": "execute_result"
    }
   ],
   "source": [
    "stacked.unstack(0)"
   ]
  },
  {
   "cell_type": "markdown",
   "id": "31df214b",
   "metadata": {},
   "source": [
    "# Pivot Tables"
   ]
  },
  {
   "cell_type": "markdown",
   "id": "d55ee44c",
   "metadata": {},
   "source": [
    "see the section of Pivot Tables"
   ]
  },
  {
   "cell_type": "code",
   "execution_count": 82,
   "id": "40b78e6a",
   "metadata": {
    "ExecuteTime": {
     "end_time": "2024-04-10T23:48:09.500270Z",
     "start_time": "2024-04-10T23:48:09.465323Z"
    }
   },
   "outputs": [
    {
     "data": {
      "text/html": [
       "<div>\n",
       "<style scoped>\n",
       "    .dataframe tbody tr th:only-of-type {\n",
       "        vertical-align: middle;\n",
       "    }\n",
       "\n",
       "    .dataframe tbody tr th {\n",
       "        vertical-align: top;\n",
       "    }\n",
       "\n",
       "    .dataframe thead th {\n",
       "        text-align: right;\n",
       "    }\n",
       "</style>\n",
       "<table border=\"1\" class=\"dataframe\">\n",
       "  <thead>\n",
       "    <tr style=\"text-align: right;\">\n",
       "      <th></th>\n",
       "      <th>A</th>\n",
       "      <th>B</th>\n",
       "      <th>C</th>\n",
       "      <th>D</th>\n",
       "      <th>E</th>\n",
       "    </tr>\n",
       "  </thead>\n",
       "  <tbody>\n",
       "    <tr>\n",
       "      <th>0</th>\n",
       "      <td>one</td>\n",
       "      <td>A</td>\n",
       "      <td>foo</td>\n",
       "      <td>-0.893023</td>\n",
       "      <td>-1.204903</td>\n",
       "    </tr>\n",
       "    <tr>\n",
       "      <th>1</th>\n",
       "      <td>one</td>\n",
       "      <td>B</td>\n",
       "      <td>foo</td>\n",
       "      <td>-0.015259</td>\n",
       "      <td>-1.594106</td>\n",
       "    </tr>\n",
       "    <tr>\n",
       "      <th>2</th>\n",
       "      <td>two</td>\n",
       "      <td>C</td>\n",
       "      <td>foo</td>\n",
       "      <td>1.780921</td>\n",
       "      <td>-0.519210</td>\n",
       "    </tr>\n",
       "    <tr>\n",
       "      <th>3</th>\n",
       "      <td>three</td>\n",
       "      <td>A</td>\n",
       "      <td>bar</td>\n",
       "      <td>-0.945548</td>\n",
       "      <td>0.097636</td>\n",
       "    </tr>\n",
       "    <tr>\n",
       "      <th>4</th>\n",
       "      <td>one</td>\n",
       "      <td>B</td>\n",
       "      <td>bar</td>\n",
       "      <td>-0.114612</td>\n",
       "      <td>-1.284782</td>\n",
       "    </tr>\n",
       "    <tr>\n",
       "      <th>5</th>\n",
       "      <td>one</td>\n",
       "      <td>C</td>\n",
       "      <td>bar</td>\n",
       "      <td>-0.145230</td>\n",
       "      <td>-0.764168</td>\n",
       "    </tr>\n",
       "    <tr>\n",
       "      <th>6</th>\n",
       "      <td>two</td>\n",
       "      <td>A</td>\n",
       "      <td>foo</td>\n",
       "      <td>0.102108</td>\n",
       "      <td>0.832587</td>\n",
       "    </tr>\n",
       "    <tr>\n",
       "      <th>7</th>\n",
       "      <td>three</td>\n",
       "      <td>B</td>\n",
       "      <td>foo</td>\n",
       "      <td>1.164162</td>\n",
       "      <td>-0.049620</td>\n",
       "    </tr>\n",
       "    <tr>\n",
       "      <th>8</th>\n",
       "      <td>one</td>\n",
       "      <td>C</td>\n",
       "      <td>foo</td>\n",
       "      <td>0.817152</td>\n",
       "      <td>-1.980298</td>\n",
       "    </tr>\n",
       "    <tr>\n",
       "      <th>9</th>\n",
       "      <td>one</td>\n",
       "      <td>A</td>\n",
       "      <td>bar</td>\n",
       "      <td>-0.622982</td>\n",
       "      <td>0.806324</td>\n",
       "    </tr>\n",
       "    <tr>\n",
       "      <th>10</th>\n",
       "      <td>two</td>\n",
       "      <td>B</td>\n",
       "      <td>bar</td>\n",
       "      <td>2.440671</td>\n",
       "      <td>1.196185</td>\n",
       "    </tr>\n",
       "    <tr>\n",
       "      <th>11</th>\n",
       "      <td>three</td>\n",
       "      <td>C</td>\n",
       "      <td>bar</td>\n",
       "      <td>-1.092728</td>\n",
       "      <td>-3.566037</td>\n",
       "    </tr>\n",
       "  </tbody>\n",
       "</table>\n",
       "</div>"
      ],
      "text/plain": [
       "        A  B    C         D         E\n",
       "0     one  A  foo -0.893023 -1.204903\n",
       "1     one  B  foo -0.015259 -1.594106\n",
       "2     two  C  foo  1.780921 -0.519210\n",
       "3   three  A  bar -0.945548  0.097636\n",
       "4     one  B  bar -0.114612 -1.284782\n",
       "5     one  C  bar -0.145230 -0.764168\n",
       "6     two  A  foo  0.102108  0.832587\n",
       "7   three  B  foo  1.164162 -0.049620\n",
       "8     one  C  foo  0.817152 -1.980298\n",
       "9     one  A  bar -0.622982  0.806324\n",
       "10    two  B  bar  2.440671  1.196185\n",
       "11  three  C  bar -1.092728 -3.566037"
      ]
     },
     "execution_count": 82,
     "metadata": {},
     "output_type": "execute_result"
    }
   ],
   "source": [
    "df = pd.DataFrame({'A' : ['one','one','two','three']*3,\n",
    "                   'B' : ['A','B','C']*4,\n",
    "                    'C' : ['foo','foo','foo','bar','bar','bar']*2,\n",
    "                   'D' : np.random.randn(12),\n",
    "                   'E' : np.random.randn(12)})\n",
    "df"
   ]
  },
  {
   "cell_type": "markdown",
   "id": "99320963",
   "metadata": {},
   "source": [
    "We can produce pivot tables from this data very easily"
   ]
  },
  {
   "cell_type": "code",
   "execution_count": 83,
   "id": "6b50bafa",
   "metadata": {
    "ExecuteTime": {
     "end_time": "2024-04-10T23:49:19.254456Z",
     "start_time": "2024-04-10T23:49:19.196247Z"
    }
   },
   "outputs": [
    {
     "data": {
      "text/html": [
       "<div>\n",
       "<style scoped>\n",
       "    .dataframe tbody tr th:only-of-type {\n",
       "        vertical-align: middle;\n",
       "    }\n",
       "\n",
       "    .dataframe tbody tr th {\n",
       "        vertical-align: top;\n",
       "    }\n",
       "\n",
       "    .dataframe thead th {\n",
       "        text-align: right;\n",
       "    }\n",
       "</style>\n",
       "<table border=\"1\" class=\"dataframe\">\n",
       "  <thead>\n",
       "    <tr style=\"text-align: right;\">\n",
       "      <th></th>\n",
       "      <th>C</th>\n",
       "      <th>bar</th>\n",
       "      <th>foo</th>\n",
       "    </tr>\n",
       "    <tr>\n",
       "      <th>A</th>\n",
       "      <th>B</th>\n",
       "      <th></th>\n",
       "      <th></th>\n",
       "    </tr>\n",
       "  </thead>\n",
       "  <tbody>\n",
       "    <tr>\n",
       "      <th rowspan=\"3\" valign=\"top\">one</th>\n",
       "      <th>A</th>\n",
       "      <td>-0.622982</td>\n",
       "      <td>-0.893023</td>\n",
       "    </tr>\n",
       "    <tr>\n",
       "      <th>B</th>\n",
       "      <td>-0.114612</td>\n",
       "      <td>-0.015259</td>\n",
       "    </tr>\n",
       "    <tr>\n",
       "      <th>C</th>\n",
       "      <td>-0.145230</td>\n",
       "      <td>0.817152</td>\n",
       "    </tr>\n",
       "    <tr>\n",
       "      <th rowspan=\"3\" valign=\"top\">three</th>\n",
       "      <th>A</th>\n",
       "      <td>-0.945548</td>\n",
       "      <td>NaN</td>\n",
       "    </tr>\n",
       "    <tr>\n",
       "      <th>B</th>\n",
       "      <td>NaN</td>\n",
       "      <td>1.164162</td>\n",
       "    </tr>\n",
       "    <tr>\n",
       "      <th>C</th>\n",
       "      <td>-1.092728</td>\n",
       "      <td>NaN</td>\n",
       "    </tr>\n",
       "    <tr>\n",
       "      <th rowspan=\"3\" valign=\"top\">two</th>\n",
       "      <th>A</th>\n",
       "      <td>NaN</td>\n",
       "      <td>0.102108</td>\n",
       "    </tr>\n",
       "    <tr>\n",
       "      <th>B</th>\n",
       "      <td>2.440671</td>\n",
       "      <td>NaN</td>\n",
       "    </tr>\n",
       "    <tr>\n",
       "      <th>C</th>\n",
       "      <td>NaN</td>\n",
       "      <td>1.780921</td>\n",
       "    </tr>\n",
       "  </tbody>\n",
       "</table>\n",
       "</div>"
      ],
      "text/plain": [
       "C             bar       foo\n",
       "A     B                    \n",
       "one   A -0.622982 -0.893023\n",
       "      B -0.114612 -0.015259\n",
       "      C -0.145230  0.817152\n",
       "three A -0.945548       NaN\n",
       "      B       NaN  1.164162\n",
       "      C -1.092728       NaN\n",
       "two   A       NaN  0.102108\n",
       "      B  2.440671       NaN\n",
       "      C       NaN  1.780921"
      ]
     },
     "execution_count": 83,
     "metadata": {},
     "output_type": "execute_result"
    }
   ],
   "source": [
    "pd.pivot_table(df,values='D',index=['A','B'],columns=['C'])"
   ]
  },
  {
   "cell_type": "markdown",
   "id": "ec1e4ee6",
   "metadata": {},
   "source": [
    "# Time Series"
   ]
  },
  {
   "cell_type": "markdown",
   "id": "bd877aa6",
   "metadata": {},
   "source": [
    "Pandas has simple, powerful, and efficient functionality for performing resampling operations during frequency conversion(eg, converting secondly data into 5-minutely data.). this sis extremely common in , but not limited to, financial applications.see the Time Series section"
   ]
  },
  {
   "cell_type": "code",
   "execution_count": 86,
   "id": "e8d65260",
   "metadata": {
    "ExecuteTime": {
     "end_time": "2024-04-10T23:56:05.589323Z",
     "start_time": "2024-04-10T23:56:05.584151Z"
    }
   },
   "outputs": [],
   "source": [
    "rng = pd.date_range('1/1/2021',periods=100,freq='S')\n",
    "ts = pd.Series(np.random.randint(0,500,len(rng)),index=rng)\n"
   ]
  },
  {
   "cell_type": "markdown",
   "id": "7f941248",
   "metadata": {},
   "source": [
    "Time zone representation"
   ]
  },
  {
   "cell_type": "code",
   "execution_count": 87,
   "id": "ac8b8edc",
   "metadata": {
    "ExecuteTime": {
     "end_time": "2024-04-10T23:57:55.885103Z",
     "start_time": "2024-04-10T23:57:55.860049Z"
    }
   },
   "outputs": [
    {
     "data": {
      "text/plain": [
       "2021-01-01    0.865885\n",
       "2021-01-02   -0.478728\n",
       "2021-01-03   -0.609989\n",
       "2021-01-04    0.431664\n",
       "2021-01-05   -0.185442\n",
       "Freq: D, dtype: float64"
      ]
     },
     "execution_count": 87,
     "metadata": {},
     "output_type": "execute_result"
    }
   ],
   "source": [
    "rng = pd.date_range('1/1/2021 00:00',periods=5,freq='D')\n",
    "ts = pd.Series(np.random.randn(len(rng)),rng)\n",
    "ts"
   ]
  },
  {
   "cell_type": "code",
   "execution_count": 88,
   "id": "b65ccd7c",
   "metadata": {
    "ExecuteTime": {
     "end_time": "2024-04-10T23:58:32.231019Z",
     "start_time": "2024-04-10T23:58:32.209186Z"
    }
   },
   "outputs": [
    {
     "data": {
      "text/plain": [
       "2021-01-01 00:00:00+00:00    0.865885\n",
       "2021-01-02 00:00:00+00:00   -0.478728\n",
       "2021-01-03 00:00:00+00:00   -0.609989\n",
       "2021-01-04 00:00:00+00:00    0.431664\n",
       "2021-01-05 00:00:00+00:00   -0.185442\n",
       "Freq: D, dtype: float64"
      ]
     },
     "execution_count": 88,
     "metadata": {},
     "output_type": "execute_result"
    }
   ],
   "source": [
    "ts_utc = ts.tz_localize('UTC')\n",
    "ts_utc"
   ]
  },
  {
   "cell_type": "markdown",
   "id": "89ec0a2a",
   "metadata": {},
   "source": [
    "Convert to another time zone"
   ]
  },
  {
   "cell_type": "code",
   "execution_count": 89,
   "id": "cbb0f06e",
   "metadata": {
    "ExecuteTime": {
     "end_time": "2024-04-10T23:59:37.442940Z",
     "start_time": "2024-04-10T23:59:36.885151Z"
    }
   },
   "outputs": [
    {
     "data": {
      "text/plain": [
       "2020-12-31 19:00:00-05:00    0.865885\n",
       "2021-01-01 19:00:00-05:00   -0.478728\n",
       "2021-01-02 19:00:00-05:00   -0.609989\n",
       "2021-01-03 19:00:00-05:00    0.431664\n",
       "2021-01-04 19:00:00-05:00   -0.185442\n",
       "Freq: D, dtype: float64"
      ]
     },
     "execution_count": 89,
     "metadata": {},
     "output_type": "execute_result"
    }
   ],
   "source": [
    "ts_utc.tz_convert('US/Eastern')\n"
   ]
  },
  {
   "cell_type": "markdown",
   "id": "a8af9925",
   "metadata": {},
   "source": [
    "Converting between time span representations"
   ]
  },
  {
   "cell_type": "code",
   "execution_count": 90,
   "id": "b78e053b",
   "metadata": {
    "ExecuteTime": {
     "end_time": "2024-04-11T00:01:58.107798Z",
     "start_time": "2024-04-11T00:01:58.068612Z"
    }
   },
   "outputs": [
    {
     "data": {
      "text/plain": [
       "2021-01-31    0.145587\n",
       "2021-02-28    0.534445\n",
       "2021-03-31   -0.339685\n",
       "2021-04-30   -1.191048\n",
       "2021-05-31    2.127121\n",
       "Freq: M, dtype: float64"
      ]
     },
     "execution_count": 90,
     "metadata": {},
     "output_type": "execute_result"
    }
   ],
   "source": [
    "rng = pd.date_range('1/1/2021',periods=5,freq='M')\n",
    "ts = pd.Series(np.random.randn(len(rng)),index=rng)\n",
    "ts"
   ]
  },
  {
   "cell_type": "code",
   "execution_count": 92,
   "id": "a90bcc04",
   "metadata": {
    "ExecuteTime": {
     "end_time": "2024-04-11T00:02:18.828982Z",
     "start_time": "2024-04-11T00:02:18.804642Z"
    }
   },
   "outputs": [
    {
     "data": {
      "text/plain": [
       "2021-01    0.145587\n",
       "2021-02    0.534445\n",
       "2021-03   -0.339685\n",
       "2021-04   -1.191048\n",
       "2021-05    2.127121\n",
       "Freq: M, dtype: float64"
      ]
     },
     "execution_count": 92,
     "metadata": {},
     "output_type": "execute_result"
    }
   ],
   "source": [
    "ps = ts.to_period()\n",
    "ps"
   ]
  },
  {
   "cell_type": "code",
   "execution_count": 93,
   "id": "4de16388",
   "metadata": {
    "ExecuteTime": {
     "end_time": "2024-04-11T00:02:31.785604Z",
     "start_time": "2024-04-11T00:02:31.764537Z"
    }
   },
   "outputs": [
    {
     "data": {
      "text/plain": [
       "2021-01-01    0.145587\n",
       "2021-02-01    0.534445\n",
       "2021-03-01   -0.339685\n",
       "2021-04-01   -1.191048\n",
       "2021-05-01    2.127121\n",
       "Freq: MS, dtype: float64"
      ]
     },
     "execution_count": 93,
     "metadata": {},
     "output_type": "execute_result"
    }
   ],
   "source": [
    "ps.to_timestamp()"
   ]
  },
  {
   "cell_type": "markdown",
   "id": "69b46f11",
   "metadata": {},
   "source": [
    "Converting between period and timestamp enables some convenient arithmetic functions to be used. IN the folllowing example, we convert a quarterly frequency with year ending in november to 9 am of the month following the quarter end:"
   ]
  },
  {
   "cell_type": "code",
   "execution_count": 94,
   "id": "06ad8f7c",
   "metadata": {
    "ExecuteTime": {
     "end_time": "2024-04-11T00:07:12.009191Z",
     "start_time": "2024-04-11T00:07:11.993385Z"
    }
   },
   "outputs": [],
   "source": [
    "prng = pd.period_range('1990Q1','2000Q4',freq='Q-NOV')\n",
    "ts = pd.Series(np.random.randn(len(prng)),prng)\n",
    "ts.index = (prng.asfreq('M','e')+1).asfreq('H','s')+9"
   ]
  },
  {
   "cell_type": "code",
   "execution_count": 95,
   "id": "e4359b55",
   "metadata": {
    "ExecuteTime": {
     "end_time": "2024-04-11T00:07:18.164943Z",
     "start_time": "2024-04-11T00:07:18.149368Z"
    }
   },
   "outputs": [
    {
     "data": {
      "text/plain": [
       "1990-03-01 09:00    1.660922\n",
       "1990-06-01 09:00   -0.587712\n",
       "1990-09-01 09:00   -0.206703\n",
       "1990-12-01 09:00    1.156966\n",
       "1991-03-01 09:00    0.192142\n",
       "Freq: H, dtype: float64"
      ]
     },
     "execution_count": 95,
     "metadata": {},
     "output_type": "execute_result"
    }
   ],
   "source": [
    "ts.head()"
   ]
  },
  {
   "cell_type": "markdown",
   "id": "8c060eaf",
   "metadata": {},
   "source": [
    "# Categoricals"
   ]
  },
  {
   "cell_type": "code",
   "execution_count": 96,
   "id": "d1dc2946",
   "metadata": {
    "ExecuteTime": {
     "end_time": "2024-04-11T00:09:31.994387Z",
     "start_time": "2024-04-11T00:09:31.986192Z"
    }
   },
   "outputs": [],
   "source": [
    "df = pd.DataFrame({\"id\": [1,2,3,4,5,6],\"raw_grade\": ['a','b','c','a','b','a']})"
   ]
  },
  {
   "cell_type": "markdown",
   "id": "9ecdd975",
   "metadata": {},
   "source": [
    "COnvert the raw grades to a categorical data type"
   ]
  },
  {
   "cell_type": "code",
   "execution_count": 97,
   "id": "9f391ead",
   "metadata": {
    "ExecuteTime": {
     "end_time": "2024-04-11T00:10:43.161121Z",
     "start_time": "2024-04-11T00:10:43.143781Z"
    }
   },
   "outputs": [
    {
     "data": {
      "text/plain": [
       "0    a\n",
       "1    b\n",
       "2    c\n",
       "3    a\n",
       "4    b\n",
       "5    a\n",
       "Name: grade, dtype: category\n",
       "Categories (3, object): ['a', 'b', 'c']"
      ]
     },
     "execution_count": 97,
     "metadata": {},
     "output_type": "execute_result"
    }
   ],
   "source": [
    "df[\"grade\"] = df[\"raw_grade\"].astype(\"category\")\n",
    "df[\"grade\"]"
   ]
  },
  {
   "cell_type": "markdown",
   "id": "60955bbb",
   "metadata": {},
   "source": [
    "Rename the categories to more meaningful names(assigning to Series.cat.categories is inplace!)"
   ]
  },
  {
   "cell_type": "code",
   "execution_count": 99,
   "id": "7c2ffde6",
   "metadata": {
    "ExecuteTime": {
     "end_time": "2024-04-11T00:14:14.727698Z",
     "start_time": "2024-04-11T00:14:14.719021Z"
    }
   },
   "outputs": [],
   "source": [
    "df[\"grade\"].cat.set_categories = [\"very good\",\"good\",\"very bad\"]"
   ]
  },
  {
   "cell_type": "code",
   "execution_count": 100,
   "id": "f42ae27a",
   "metadata": {
    "ExecuteTime": {
     "end_time": "2024-04-11T00:14:24.325724Z",
     "start_time": "2024-04-11T00:14:24.317049Z"
    }
   },
   "outputs": [
    {
     "data": {
      "text/plain": [
       "0    a\n",
       "1    b\n",
       "2    c\n",
       "3    a\n",
       "4    b\n",
       "5    a\n",
       "Name: grade, dtype: category\n",
       "Categories (3, object): ['a', 'b', 'c']"
      ]
     },
     "execution_count": 100,
     "metadata": {},
     "output_type": "execute_result"
    }
   ],
   "source": [
    "df[\"grade\"]"
   ]
  },
  {
   "cell_type": "code",
   "execution_count": 101,
   "id": "0628573a",
   "metadata": {
    "ExecuteTime": {
     "end_time": "2024-04-11T00:15:28.928491Z",
     "start_time": "2024-04-11T00:15:28.912879Z"
    }
   },
   "outputs": [
    {
     "data": {
      "text/html": [
       "<div>\n",
       "<style scoped>\n",
       "    .dataframe tbody tr th:only-of-type {\n",
       "        vertical-align: middle;\n",
       "    }\n",
       "\n",
       "    .dataframe tbody tr th {\n",
       "        vertical-align: top;\n",
       "    }\n",
       "\n",
       "    .dataframe thead th {\n",
       "        text-align: right;\n",
       "    }\n",
       "</style>\n",
       "<table border=\"1\" class=\"dataframe\">\n",
       "  <thead>\n",
       "    <tr style=\"text-align: right;\">\n",
       "      <th></th>\n",
       "      <th>id</th>\n",
       "      <th>raw_grade</th>\n",
       "      <th>grade</th>\n",
       "    </tr>\n",
       "  </thead>\n",
       "  <tbody>\n",
       "    <tr>\n",
       "      <th>0</th>\n",
       "      <td>1</td>\n",
       "      <td>a</td>\n",
       "      <td>a</td>\n",
       "    </tr>\n",
       "    <tr>\n",
       "      <th>3</th>\n",
       "      <td>4</td>\n",
       "      <td>a</td>\n",
       "      <td>a</td>\n",
       "    </tr>\n",
       "    <tr>\n",
       "      <th>5</th>\n",
       "      <td>6</td>\n",
       "      <td>a</td>\n",
       "      <td>a</td>\n",
       "    </tr>\n",
       "    <tr>\n",
       "      <th>1</th>\n",
       "      <td>2</td>\n",
       "      <td>b</td>\n",
       "      <td>b</td>\n",
       "    </tr>\n",
       "    <tr>\n",
       "      <th>4</th>\n",
       "      <td>5</td>\n",
       "      <td>b</td>\n",
       "      <td>b</td>\n",
       "    </tr>\n",
       "    <tr>\n",
       "      <th>2</th>\n",
       "      <td>3</td>\n",
       "      <td>c</td>\n",
       "      <td>c</td>\n",
       "    </tr>\n",
       "  </tbody>\n",
       "</table>\n",
       "</div>"
      ],
      "text/plain": [
       "   id raw_grade grade\n",
       "0   1         a     a\n",
       "3   4         a     a\n",
       "5   6         a     a\n",
       "1   2         b     b\n",
       "4   5         b     b\n",
       "2   3         c     c"
      ]
     },
     "execution_count": 101,
     "metadata": {},
     "output_type": "execute_result"
    }
   ],
   "source": [
    "df.sort_values(by=\"grade\")"
   ]
  },
  {
   "cell_type": "markdown",
   "id": "fe110167",
   "metadata": {},
   "source": [
    "# Plotting"
   ]
  },
  {
   "cell_type": "code",
   "execution_count": 105,
   "id": "43fc6a23",
   "metadata": {
    "ExecuteTime": {
     "end_time": "2024-04-11T00:17:59.522292Z",
     "start_time": "2024-04-11T00:17:57.852459Z"
    }
   },
   "outputs": [
    {
     "data": {
      "text/plain": [
       "<AxesSubplot:>"
      ]
     },
     "execution_count": 105,
     "metadata": {},
     "output_type": "execute_result"
    },
    {
     "data": {
      "image/png": "[encoded data removed]",
      "text/plain": [
       "<Figure size 640x480 with 1 Axes>"
      ]
     },
     "metadata": {},
     "output_type": "display_data"
    }
   ],
   "source": [
    "ts = pd.Series(np.random.randn(1000),index=pd.date_range('1/1/2000',periods=1000))\n",
    "ts = ts.cumsum()\n",
    "ts.plot()"
   ]
  },
  {
   "cell_type": "markdown",
   "id": "77d35ba5",
   "metadata": {},
   "source": [
    "On DataFrame,plot() is a convenience to plot all of the columns with labels:"
   ]
  },
  {
   "cell_type": "code",
   "execution_count": null,
   "id": "2945dd9a",
   "metadata": {},
   "outputs": [],
   "source": []
  }
 ],
 "metadata": {
  "kernelspec": {
   "display_name": "Python 3 (ipykernel)",
   "language": "python",
   "name": "python3"
  },
  "language_info": {
   "codemirror_mode": {
    "name": "ipython",
    "version": 3
   },
   "file_extension": ".py",
   "mimetype": "text/x-python",
   "name": "python",
   "nbconvert_exporter": "python",
   "pygments_lexer": "ipython3",
   "version": "3.9.13"
  }
 },
 "nbformat": 4,
 "nbformat_minor": 5
}
